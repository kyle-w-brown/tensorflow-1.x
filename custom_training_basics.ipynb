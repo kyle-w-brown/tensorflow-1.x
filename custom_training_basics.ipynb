{
  "nbformat": 4,
  "nbformat_minor": 0,
  "metadata": {
    "colab": {
      "name": "custom_training_basics.ipynb",
      "provenance": [],
      "collapsed_sections": [],
      "toc_visible": true
    },
    "kernelspec": {
      "name": "python3",
      "display_name": "Python 3"
    },
    "accelerator": "GPU"
  },
  "cells": [
    {
      "cell_type": "markdown",
      "metadata": {
        "id": "hrXv0rU9sIma"
      },
      "source": [
        "# Custom Training: Basics Tensorflow 1.x\r\n",
        "\r\n",
        "---"
      ]
    },
    {
      "cell_type": "markdown",
      "metadata": {
        "id": "meaUpl8xjKTO"
      },
      "source": [
        "[![Binder](https://mybinder.org/badge_logo.svg)](https://mybinder.org/v2/gh/kyle-w-brown/tensorflow-1.x.git/HEAD)"
      ]
    },
    {
      "cell_type": "markdown",
      "metadata": {
        "id": "k2o3TTG4TFpt"
      },
      "source": [
        "In the previous tutorial we covered the TensorFlow APIs for automatic differentiation, a basic building block for machine learning.\n",
        "In this tutorial we will use the TensorFlow primitives introduced in the prior tutorials to do some simple machine learning.\n",
        "\n",
        "TensorFlow also includes a higher-level neural networks API (`tf.keras`) which provides useful abstractions to reduce boilerplate. We strongly recommend those higher level APIs for people working with neural networks. However, in this short tutorial we cover neural network training from first principles to establish a strong foundation."
      ]
    },
    {
      "cell_type": "markdown",
      "metadata": {
        "id": "3LXMVuV0VhDr"
      },
      "source": [
        "## Setup"
      ]
    },
    {
      "cell_type": "code",
      "metadata": {
        "id": "PJ64L90aVir3",
        "colab": {
          "base_uri": "https://localhost:8080/"
        },
        "outputId": "cfd9d15f-70ae-4643-911b-a172827d0c17"
      },
      "source": [
        "%tensorflow_version 1.x\n",
        "import tensorflow as tf\n",
        "\n",
        "tf.enable_eager_execution()"
      ],
      "execution_count": 1,
      "outputs": [
        {
          "output_type": "stream",
          "text": [
            "TensorFlow 1.x selected.\n"
          ],
          "name": "stdout"
        }
      ]
    },
    {
      "cell_type": "markdown",
      "metadata": {
        "id": "eMAWbDJFVmMk"
      },
      "source": [
        "## Variables\n",
        "\n",
        "Tensors in TensorFlow are immutable stateless objects. Machine learning models, however, need to have changing state: as your model trains, the same code to compute predictions should behave differently over time (hopefully with a lower loss!). To represent this state which needs to change over the course of your computation, you can choose to rely on the fact that Python is a stateful programming language:\n"
      ]
    },
    {
      "cell_type": "code",
      "metadata": {
        "id": "VkJwtLS_Jbn8",
        "colab": {
          "base_uri": "https://localhost:8080/"
        },
        "outputId": "770b3ef5-469c-4b2f-c7df-daed8ad9db3a"
      },
      "source": [
        "# Using python state\n",
        "x = tf.zeros([10, 10])\n",
        "x += 2  # This is equivalent to x = x + 2, which does not mutate the original\n",
        "        # value of x\n",
        "print(x)"
      ],
      "execution_count": 2,
      "outputs": [
        {
          "output_type": "stream",
          "text": [
            "tf.Tensor(\n",
            "[[2. 2. 2. 2. 2. 2. 2. 2. 2. 2.]\n",
            " [2. 2. 2. 2. 2. 2. 2. 2. 2. 2.]\n",
            " [2. 2. 2. 2. 2. 2. 2. 2. 2. 2.]\n",
            " [2. 2. 2. 2. 2. 2. 2. 2. 2. 2.]\n",
            " [2. 2. 2. 2. 2. 2. 2. 2. 2. 2.]\n",
            " [2. 2. 2. 2. 2. 2. 2. 2. 2. 2.]\n",
            " [2. 2. 2. 2. 2. 2. 2. 2. 2. 2.]\n",
            " [2. 2. 2. 2. 2. 2. 2. 2. 2. 2.]\n",
            " [2. 2. 2. 2. 2. 2. 2. 2. 2. 2.]\n",
            " [2. 2. 2. 2. 2. 2. 2. 2. 2. 2.]], shape=(10, 10), dtype=float32)\n"
          ],
          "name": "stdout"
        }
      ]
    },
    {
      "cell_type": "markdown",
      "metadata": {
        "id": "wfneTXy7JcUz"
      },
      "source": [
        "TensorFlow, however, has stateful operations built in, and these are often more pleasant to use than low-level Python representations of your state. To represent weights in a model, for example, it's often convenient and efficient to use TensorFlow variables.\n",
        "\n",
        "A Variable is an object which stores a value and, when used in a TensorFlow computation, will implicitly read from this stored value. There are operations (`tf.assign_sub`, `tf.scatter_update`, etc) which manipulate the value stored in a TensorFlow variable."
      ]
    },
    {
      "cell_type": "code",
      "metadata": {
        "id": "itxmrMil6DQi"
      },
      "source": [
        "v = tf.Variable(1.0)\n",
        "assert v.numpy() == 1.0\n",
        "\n",
        "# Re-assign the value\n",
        "v.assign(3.0)\n",
        "assert v.numpy() == 3.0\n",
        "\n",
        "# Use `v` in a TensorFlow operation like tf.square() and reassign\n",
        "v.assign(tf.square(v))\n",
        "assert v.numpy() == 9.0"
      ],
      "execution_count": 3,
      "outputs": []
    },
    {
      "cell_type": "code",
      "metadata": {
        "colab": {
          "base_uri": "https://localhost:8080/"
        },
        "id": "UDYaMRkHieh1",
        "outputId": "d8b67d69-2f16-436c-fd81-c223c6f55ecb"
      },
      "source": [
        "v"
      ],
      "execution_count": 4,
      "outputs": [
        {
          "output_type": "execute_result",
          "data": {
            "text/plain": [
              "<tf.Variable 'Variable:0' shape=() dtype=float32, numpy=9.0>"
            ]
          },
          "metadata": {
            "tags": []
          },
          "execution_count": 4
        }
      ]
    },
    {
      "cell_type": "markdown",
      "metadata": {
        "id": "-paSaeq1JzwC"
      },
      "source": [
        "Computations using Variables are automatically traced when computing gradients. For Variables representing embeddings TensorFlow will do sparse updates by default, which are more computation and memory efficient.\n",
        "\n",
        "Using Variables is also a way to quickly let a reader of your code know that this piece of state is mutable."
      ]
    },
    {
      "cell_type": "markdown",
      "metadata": {
        "id": "BMiFcDzE7Qu3"
      },
      "source": [
        "## Example: Fitting a linear model\n",
        "\n",
        "Let's now put the few concepts we have so far ---`Tensor`, `GradientTape`, `Variable` --- to build and train a simple model. This typically involves a few steps:\n",
        "\n",
        "1. Define the model.\n",
        "2. Define a loss function.\n",
        "3. Obtain training data.\n",
        "4. Run through the training data and use an \"optimizer\" to adjust the variables to fit the data.\n",
        "\n",
        "In this tutorial, we'll walk through a trivial example of a simple linear model: `f(x) = x * W + b`, which has two variables - `W` and `b`. Furthermore, we'll synthesize data such that a well trained model would have `W = 3.0` and `b = 2.0`."
      ]
    },
    {
      "cell_type": "markdown",
      "metadata": {
        "id": "gFzH64Jn9PIm"
      },
      "source": [
        "### Define the model\n",
        "\n",
        "Let's define a simple class to encapsulate the variables and the computation."
      ]
    },
    {
      "cell_type": "code",
      "metadata": {
        "id": "_WRu7Pze7wk8"
      },
      "source": [
        "class Model(object):\n",
        "  def __init__(self):\n",
        "    # Initialize variable to (5.0, 0.0)\n",
        "    # In practice, these should be initialized to random values.\n",
        "    self.W = tf.Variable(5.0)\n",
        "    self.b = tf.Variable(0.0)\n",
        "    \n",
        "  def __call__(self, x):\n",
        "    return self.W * x + self.b\n",
        "  \n",
        "model = Model()\n",
        "\n",
        "assert model(3.0).numpy() == 15.0"
      ],
      "execution_count": 5,
      "outputs": []
    },
    {
      "cell_type": "markdown",
      "metadata": {
        "id": "xa6j_yXa-j79"
      },
      "source": [
        "### Define a loss function\n",
        "\n",
        "A loss function measures how well the output of a model for a given input matches the desired output. Let's use the standard L2 loss."
      ]
    },
    {
      "cell_type": "code",
      "metadata": {
        "id": "Y0ysUFGY924U"
      },
      "source": [
        "def loss(predicted_y, desired_y):\n",
        "  return tf.reduce_mean(tf.square(predicted_y - desired_y))"
      ],
      "execution_count": 6,
      "outputs": []
    },
    {
      "cell_type": "markdown",
      "metadata": {
        "id": "qutT_fkl_CBc"
      },
      "source": [
        "### Obtain training data\n",
        "\n",
        "Let's synthesize the training data with some noise."
      ]
    },
    {
      "cell_type": "code",
      "metadata": {
        "id": "gxPTb-kt_N5m"
      },
      "source": [
        "TRUE_W = 3.0\n",
        "TRUE_b = 2.0\n",
        "NUM_EXAMPLES = 1000\n",
        "\n",
        "inputs  = tf.random_normal(shape=[NUM_EXAMPLES])\n",
        "noise   = tf.random_normal(shape=[NUM_EXAMPLES])\n",
        "outputs = inputs * TRUE_W + TRUE_b + noise"
      ],
      "execution_count": 7,
      "outputs": []
    },
    {
      "cell_type": "code",
      "metadata": {
        "colab": {
          "base_uri": "https://localhost:8080/"
        },
        "id": "PETea4Siim-Q",
        "outputId": "a0d8e6de-5171-4591-de7a-777a70f55569"
      },
      "source": [
        "outputs"
      ],
      "execution_count": 8,
      "outputs": [
        {
          "output_type": "execute_result",
          "data": {
            "text/plain": [
              "<tf.Tensor: id=59, shape=(1000,), dtype=float32, numpy=\n",
              "array([-2.4915695e-02,  2.0932553e+00,  2.8885322e+00,  5.1513982e+00,\n",
              "       -2.6173024e+00,  1.4849290e+00,  3.4861439e-01,  2.7830720e+00,\n",
              "        6.5578814e+00,  3.1071935e+00, -6.9916433e-01,  1.5752228e+00,\n",
              "       -4.6568280e-01,  3.3076229e+00,  2.4413142e+00,  5.2224941e+00,\n",
              "       -1.5544000e+00,  8.2506704e+00,  4.6053967e+00,  2.5322258e+00,\n",
              "        3.7799211e+00,  3.6415968e+00,  3.0472615e+00,  6.2870264e+00,\n",
              "        3.5905676e+00,  1.9969896e+00, -6.0011568e+00,  3.9700696e+00,\n",
              "        7.5995221e+00, -3.5281584e-01, -3.1281361e-01,  2.0130138e+00,\n",
              "        2.8379183e+00,  7.3349891e+00,  4.9412560e+00,  3.3254571e+00,\n",
              "       -1.4314265e+00,  5.3526026e-01,  9.8693538e-01, -6.8374448e+00,\n",
              "       -2.2623017e+00,  5.3147545e+00,  4.1884947e+00,  1.0304708e+00,\n",
              "        2.3347392e+00, -1.3493964e-01, -6.4379895e-01,  1.0219918e+00,\n",
              "        7.5008602e+00, -7.8403008e-01,  5.9428468e+00, -3.5705216e+00,\n",
              "       -4.9968928e-01,  3.9108634e+00, -1.1974399e+00,  4.6631327e+00,\n",
              "        9.4982827e-01,  7.1802773e+00,  8.1164348e-01,  4.3595200e+00,\n",
              "       -8.6736232e-02,  3.2726414e+00,  1.6240252e+00,  2.5713654e+00,\n",
              "       -8.5264146e-02,  2.5231736e+00,  5.0704398e+00, -5.1104512e+00,\n",
              "        6.0576797e-01,  2.2001195e+00,  2.3097734e+00,  4.3748304e-01,\n",
              "        3.7953639e-01, -2.6270082e+00, -1.9326314e+00,  5.9718657e+00,\n",
              "       -1.3143179e+00,  2.5613815e-01,  3.8766122e+00,  1.9309413e+00,\n",
              "        5.3855600e+00, -1.8963218e+00,  1.3422539e+00,  1.3963866e+00,\n",
              "        9.6452916e-01,  7.2245712e+00,  5.8930564e+00, -1.1553748e+00,\n",
              "        3.0665169e+00,  4.0202254e-01,  8.4485984e-01,  1.8197036e+00,\n",
              "        5.9244556e+00,  7.2883177e-01, -6.1467581e+00,  4.7834730e+00,\n",
              "       -5.0738664e+00,  1.8657453e+00,  6.6006660e+00, -3.5616422e+00,\n",
              "        1.9796296e+00, -1.3663644e+00, -1.7806873e+00,  1.9529705e+00,\n",
              "        1.1943750e+00,  5.2786660e+00,  1.5471567e+00,  7.2292924e-01,\n",
              "       -5.8219533e+00,  2.7769165e+00,  2.8854451e+00,  3.0059443e+00,\n",
              "        7.3780770e+00,  1.4276195e-01,  7.9100907e-01,  8.6773872e-01,\n",
              "        1.9943569e+00,  1.1852109e+00,  4.9913092e+00,  5.2087045e+00,\n",
              "        1.8461682e+00,  4.6951365e+00,  1.6167777e+00,  2.3830647e+00,\n",
              "       -5.5549759e-01,  3.7610979e+00,  1.8983184e+00,  1.9766691e+00,\n",
              "       -6.4164281e-01, -7.7778149e-01, -1.1804420e+00,  5.6916589e-01,\n",
              "        5.2528620e+00, -1.4030927e-01,  2.1351180e+00, -4.2812271e+00,\n",
              "       -1.1907929e-01,  5.0829115e+00,  5.5484009e-01, -4.6300521e+00,\n",
              "        6.0225391e+00, -6.8077779e-01, -7.8050935e-01, -7.7768469e-01,\n",
              "        6.2779841e+00,  1.3127974e+00,  1.8099372e+00,  1.8450931e+00,\n",
              "       -3.2780032e+00,  3.2796078e+00, -9.8830354e-01, -3.4767771e-01,\n",
              "       -1.1124785e+00, -1.4502418e+00, -1.1162679e+00,  4.7905979e+00,\n",
              "        3.8765073e-02, -2.1575302e-01,  6.8780007e+00, -2.6032557e+00,\n",
              "       -3.5974252e+00,  2.8959668e+00,  1.8963546e+00, -1.6320467e-01,\n",
              "        1.2992120e+01,  5.3614826e+00,  1.5532024e+00,  8.3046818e+00,\n",
              "        2.8429523e+00,  4.4196320e+00, -1.0772094e+00,  2.9646105e-01,\n",
              "        7.8073823e-01, -4.0312529e-02, -2.9090374e+00, -1.3683014e+00,\n",
              "       -2.7991514e+00, -3.8180885e+00,  2.8937159e+00,  5.3187089e+00,\n",
              "        1.4089589e+00,  1.0316602e+01,  1.0189581e+00,  3.7241497e+00,\n",
              "        7.3765383e+00, -2.9462833e+00,  3.2159381e+00,  5.3815980e+00,\n",
              "        5.8527607e-01, -8.4901917e-01,  2.9796057e+00,  4.3510528e+00,\n",
              "        2.0491467e+00,  5.3789473e+00,  1.2198566e+00,  5.9305124e+00,\n",
              "        3.1015770e+00,  3.1862597e+00,  8.4367790e+00,  2.9825301e+00,\n",
              "        9.5431900e-01,  4.8842216e-01,  6.8893080e+00,  7.0545931e+00,\n",
              "        2.8748069e+00,  3.3044443e+00,  1.4178752e+00,  6.3102090e-01,\n",
              "        3.8028069e+00,  5.7149372e+00, -2.6345193e+00,  2.3365772e+00,\n",
              "        3.0506911e+00,  5.0598969e+00,  5.6855977e-01, -1.5568879e+00,\n",
              "        2.8283927e+00,  6.4361787e+00,  7.0211930e+00, -5.2421989e+00,\n",
              "       -3.7375402e+00, -7.1313782e+00,  2.1772878e+00,  3.7387955e-01,\n",
              "       -6.1286467e-01, -2.3357544e+00,  3.7615321e+00,  2.6091764e+00,\n",
              "        4.7671585e+00, -2.1676216e+00,  2.0763812e+00,  1.8379276e+00,\n",
              "        3.0637875e+00, -6.1510515e-01,  4.9074736e+00, -8.2894325e-02,\n",
              "        3.0317302e+00,  5.4061985e+00,  3.7913880e+00,  2.4819396e+00,\n",
              "        2.1161907e+00, -6.3705397e+00,  5.4195471e+00,  7.6684785e+00,\n",
              "        9.3836861e+00,  2.9433599e+00,  4.4017496e+00, -8.1845486e-01,\n",
              "        3.5580580e+00,  7.8778940e-01,  3.7180645e+00,  4.9346738e+00,\n",
              "        2.9751253e+00, -1.8119161e+00,  4.3632865e+00,  6.4851375e+00,\n",
              "        3.3724875e+00,  9.2048526e-01,  3.5319433e+00,  2.4943275e+00,\n",
              "        2.1401572e-01, -1.6877804e+00,  6.9513845e+00,  1.3634725e+00,\n",
              "        3.9821146e+00,  3.7422731e+00,  2.2512076e+00, -2.1772795e+00,\n",
              "        2.3483890e-01, -4.8054457e+00, -8.8436961e-01,  6.6189438e-02,\n",
              "        2.6391439e+00,  2.7977548e+00,  3.8178897e-01,  3.9801044e+00,\n",
              "        3.1295961e-01,  5.7199168e-01, -1.9341981e-01, -1.6537157e+00,\n",
              "        5.1268716e+00,  1.1595041e+00,  6.6954083e+00,  4.2336450e+00,\n",
              "        5.5925336e+00,  1.5495056e+00,  5.8979950e+00,  1.2136916e+01,\n",
              "        4.6154344e-01,  2.7385449e-01, -9.7580147e-01, -2.3943532e+00,\n",
              "        5.1112456e+00,  6.3713326e+00,  3.0630007e+00,  7.6679707e-02,\n",
              "       -1.7408247e+00, -1.5673089e-01, -1.9086864e+00,  3.3823466e+00,\n",
              "       -5.8103561e-01, -2.1315851e+00, -2.1332064e+00,  6.7967510e+00,\n",
              "       -4.9990439e+00, -4.0547929e+00,  3.7453430e+00,  1.5910366e+00,\n",
              "        1.0251179e+01,  2.0610542e+00,  5.2892370e+00, -4.1547580e+00,\n",
              "        8.1906252e+00,  2.1245670e-01,  5.5314150e+00, -4.5355797e-02,\n",
              "        9.4224529e+00, -4.2168713e-01,  2.9867368e+00, -1.9290206e+00,\n",
              "        1.6245308e+00,  4.6219718e-01,  7.0139956e+00,  4.3106217e+00,\n",
              "        5.4502888e+00, -3.2746625e+00, -4.1937480e+00, -1.1347980e+00,\n",
              "        8.1721678e+00,  4.7478981e+00,  2.7407262e+00,  1.6896229e+00,\n",
              "        5.8418980e+00, -4.4957674e-01,  5.5807452e+00,  2.0655835e+00,\n",
              "        3.0714803e+00,  1.7608707e+00,  1.2103691e+00, -3.2098460e-01,\n",
              "       -4.3188763e+00, -1.8413445e+00,  6.0421357e+00, -2.9014916e+00,\n",
              "        3.1053586e+00, -2.6862855e+00,  9.6659679e+00,  5.1375895e+00,\n",
              "        6.3431892e+00,  6.5719204e+00,  8.1318350e+00,  4.5657744e+00,\n",
              "       -4.5353884e-01,  6.5746441e+00, -2.6377683e+00,  9.8549646e-01,\n",
              "        1.8551445e+00,  4.0917201e+00,  2.2212596e+00, -2.0201821e+00,\n",
              "        3.4565830e+00,  5.3299451e-01,  5.8046398e+00,  1.1818843e+00,\n",
              "        6.6163015e-01,  2.2783422e-01,  9.9195814e-01,  3.2755682e+00,\n",
              "        4.6296220e+00, -5.1755338e+00,  6.3377957e+00,  4.3190408e+00,\n",
              "        5.0111542e+00,  5.8406205e+00,  2.7403014e+00,  3.6384408e+00,\n",
              "        5.1417890e+00,  4.6196222e+00,  2.4735568e+00,  2.2245712e+00,\n",
              "        1.1747870e+00,  2.3204536e+00,  7.3248100e-01,  2.1614323e+00,\n",
              "        2.4686880e+00,  5.5004764e+00,  5.0693159e+00,  1.7619812e+00,\n",
              "       -4.8728967e-01,  1.8656970e+00, -5.8716555e+00,  2.2727650e-01,\n",
              "        2.9209924e-01,  7.2554088e-01,  7.3907852e+00,  1.8685799e+00,\n",
              "        3.6141312e+00,  2.7971056e+00,  6.4458716e-01,  1.7053941e+00,\n",
              "        2.2852731e+00,  2.8719788e+00,  8.5732527e+00,  6.1308947e+00,\n",
              "        6.1007538e+00,  7.1861181e+00,  5.6125007e+00,  9.8613892e+00,\n",
              "        4.2774491e+00,  1.3329124e+00,  2.7911832e+00,  8.4527963e-01,\n",
              "        5.0059462e+00,  3.3573270e+00,  9.1703396e+00,  3.7392669e+00,\n",
              "       -2.1322918e+00,  5.1543055e+00,  2.5862079e+00,  1.8822792e+00,\n",
              "        4.0419383e+00,  4.1925654e+00, -1.8181187e+00, -9.8114192e-01,\n",
              "       -2.8023281e+00,  1.0400543e+01,  8.9411030e+00, -1.3655365e+00,\n",
              "        5.6682835e+00,  3.0855787e+00,  8.2846174e+00,  4.3924923e+00,\n",
              "        4.2381930e-01,  6.6524496e+00,  6.0941153e+00, -5.4959774e+00,\n",
              "        5.6288495e+00,  1.1446275e-01,  4.1230578e+00,  5.1644573e+00,\n",
              "       -1.6356691e+00,  5.0979632e-01,  2.0207412e+00,  5.2986350e+00,\n",
              "        2.5380778e+00,  5.9794507e+00,  4.9832411e+00,  2.4207990e+00,\n",
              "        9.5828056e+00, -9.5454097e-02,  1.3291021e+01,  3.0419116e+00,\n",
              "       -1.5839648e+00, -8.9736640e-02,  5.2015963e+00,  2.2587192e-01,\n",
              "       -1.2412066e+00,  6.0245795e+00,  2.0711484e+00, -9.2230898e-01,\n",
              "       -2.8759696e+00,  2.7627463e+00,  1.4513193e+00, -4.9627662e+00,\n",
              "        3.1437032e+00, -1.2161440e-01, -3.3028116e+00,  7.5403380e-01,\n",
              "        2.5985029e+00,  8.6173820e-01,  7.5068126e+00, -1.9572146e+00,\n",
              "        2.8683953e+00,  4.0642128e+00,  2.0147827e+00,  2.1678507e+00,\n",
              "        5.4461098e+00,  2.3444300e+00, -3.5689890e-01,  2.3644657e+00,\n",
              "        3.7211061e-01,  1.5438588e+00,  1.3843879e+00,  2.2257280e+00,\n",
              "        4.9304843e+00, -1.2326968e-01, -3.4946191e-01,  2.7581375e+00,\n",
              "        2.0996170e+00, -7.2882998e-01, -5.1317942e-01,  7.1537914e+00,\n",
              "        1.5586917e+00,  3.5272782e+00,  1.0591023e+00,  3.7845154e+00,\n",
              "        2.8689051e+00,  3.9062204e+00,  6.5251012e+00,  5.3306580e+00,\n",
              "        2.2440162e+00,  2.0274553e-01,  2.5481226e+00,  2.5182965e+00,\n",
              "       -4.7022877e+00,  6.6158581e+00,  8.5408792e+00, -7.6100385e-01,\n",
              "        7.2169766e+00, -2.9639482e+00, -4.0313129e+00,  9.6803427e+00,\n",
              "        3.5814600e+00,  3.3786654e-02,  3.6563337e+00,  2.1153419e+00,\n",
              "        2.4724836e+00,  3.8882918e+00, -1.5214756e+00,  1.3216470e+00,\n",
              "        2.3329699e+00,  3.3102994e+00,  3.6524096e+00,  4.2465949e+00,\n",
              "        4.2335987e+00, -3.0512636e+00, -1.9132665e+00,  1.9337864e+00,\n",
              "       -3.0253313e+00,  1.5239871e+00,  1.6022878e+00,  1.8430698e-01,\n",
              "        3.4279733e+00,  9.6439104e+00, -1.0601175e+00, -1.1529219e+00,\n",
              "        7.3246117e+00,  2.5022018e+00,  4.9203253e+00,  5.2130389e+00,\n",
              "        2.6956785e+00,  9.9086386e-01, -2.5579748e+00,  7.0530348e+00,\n",
              "       -1.1540411e+00, -6.8222399e+00,  1.5110117e+00,  1.2971702e+00,\n",
              "        2.2260466e+00,  3.6026793e+00, -6.3712209e-01, -2.0651236e+00,\n",
              "        5.2770419e+00,  9.7791719e-01,  1.9499409e+00, -3.1119843e+00,\n",
              "        3.7359061e+00, -7.3277140e-01, -9.6030378e-01,  1.2628176e+00,\n",
              "        5.8993835e+00,  3.4423161e+00, -2.6900480e+00,  1.3284789e+00,\n",
              "       -6.2662668e+00, -2.6274631e+00,  4.4840837e+00,  4.2315640e+00,\n",
              "        2.0377917e+00,  1.3099796e+00, -6.7229587e-01,  1.5282273e-01,\n",
              "        3.5534942e+00,  1.5743195e+00,  5.6604357e+00,  1.2367804e+00,\n",
              "        7.7136321e+00,  4.0584326e+00,  1.6437786e+00,  5.7887635e+00,\n",
              "        5.4396429e+00, -1.3954008e-01,  1.4302673e+00,  1.6565228e+00,\n",
              "        8.5977488e+00, -3.5915327e+00,  5.7771244e+00,  1.9941572e+00,\n",
              "        7.1638508e+00,  2.4029441e+00,  1.1637446e+00, -5.1382728e+00,\n",
              "       -1.2437357e+00, -6.7688231e+00,  1.8162851e+00,  1.2849383e+00,\n",
              "       -1.2909257e+00,  3.7696283e+00, -1.0220861e+00,  9.7031301e-01,\n",
              "       -2.9745736e+00,  3.4868374e-01,  3.6374657e+00,  5.0030918e+00,\n",
              "       -4.5510107e-01, -3.8701236e-02,  4.2770596e+00,  5.6816273e+00,\n",
              "        2.3618293e+00,  2.5099306e+00, -4.2413235e-01,  2.6243227e+00,\n",
              "        6.0345159e+00,  2.1638787e+00,  7.5867510e-01,  5.0481033e+00,\n",
              "        1.4297206e+00,  9.8617536e-01,  1.1974702e+00, -2.0293134e-01,\n",
              "        1.9904685e+00,  2.1173103e+00,  2.6887447e-01,  6.9050083e+00,\n",
              "        3.5281894e+00, -1.7543840e+00, -1.0472121e+00, -4.5799804e+00,\n",
              "        8.2744474e+00, -5.2350006e+00,  5.2012396e+00,  1.7368386e+00,\n",
              "       -1.3520713e+00,  3.2128060e+00,  4.2090840e+00,  2.9151030e+00,\n",
              "        1.7434376e-01,  5.2443542e+00,  6.2714901e+00,  5.8950400e+00,\n",
              "        3.8508220e+00, -2.0719357e+00,  2.5010359e+00,  3.6083190e+00,\n",
              "        2.5746858e+00,  4.8352551e+00,  1.4523419e+00,  2.2404969e-01,\n",
              "        4.7581285e-02,  2.4854548e+00,  1.5525348e+00, -3.9158636e-01,\n",
              "        7.4690986e+00,  2.0164337e+00, -1.3358523e+00, -6.2464643e-01,\n",
              "        2.7934213e+00,  4.1778922e+00, -1.5932852e-01,  2.1597729e+00,\n",
              "        7.0775394e+00,  2.8775537e-01, -4.9797525e+00, -3.9005351e-01,\n",
              "        1.9290925e+00,  8.5276484e-01,  6.2944031e+00,  1.0141624e+00,\n",
              "       -6.8843186e-01, -2.7833648e+00,  3.2709532e+00, -1.4965305e+00,\n",
              "        3.8621938e+00,  7.3754387e+00,  1.1714736e+00,  2.6615915e+00,\n",
              "        2.1932161e+00, -2.3031118e+00, -3.5158365e+00,  5.7367315e+00,\n",
              "        2.7274060e+00, -7.6329541e-01,  5.4640713e+00, -6.1257410e-01,\n",
              "        1.2735242e+00, -6.9260931e-01,  3.7094603e+00,  2.2889378e+00,\n",
              "       -6.0185990e+00,  8.7780893e-01, -3.4089038e+00, -5.4128397e-01,\n",
              "        6.5645635e-01,  5.0029197e+00, -2.7381706e+00,  1.6541425e+00,\n",
              "        2.6491125e+00, -3.3165193e-01,  3.3781748e+00,  6.3124371e-01,\n",
              "       -3.5700502e+00,  1.4791604e+00,  4.6583638e+00,  4.2351747e+00,\n",
              "        6.9647713e+00,  1.5935510e-01, -1.7769527e-01, -1.5982592e+00,\n",
              "       -1.9396359e+00,  3.8839614e+00,  1.4481246e+00,  2.8599124e+00,\n",
              "        2.4751043e-01, -1.8120974e+00, -1.9850968e+00, -4.0858111e+00,\n",
              "       -1.4110023e+00,  7.4718866e+00,  2.7662535e+00,  1.7111548e+00,\n",
              "        3.4794195e+00, -2.3393173e+00,  2.7056708e+00,  5.8741379e+00,\n",
              "        6.1849098e+00,  5.1288381e+00,  7.8523874e-02,  4.3092761e+00,\n",
              "       -2.9846618e+00,  3.8254194e+00, -6.9604340e+00, -2.0613120e+00,\n",
              "        4.6526737e+00, -2.8503482e+00,  3.3707023e+00,  1.8167853e-01,\n",
              "        5.9586701e+00,  2.8832235e+00,  4.3681030e+00,  1.1161617e+00,\n",
              "       -3.4977131e+00,  2.1315548e+00,  7.6180959e-01,  1.2310133e+00,\n",
              "        1.4425979e+00, -4.3320069e+00,  4.9957480e+00,  6.3498511e+00,\n",
              "        5.7963758e+00,  4.2226477e+00, -4.7410674e+00,  2.9509616e-01,\n",
              "        3.8658919e+00,  6.5288630e+00,  1.1988893e+00,  4.1886945e+00,\n",
              "        7.4758167e+00,  9.8794575e+00,  3.3779407e+00, -4.7466235e+00,\n",
              "        2.3418241e+00, -2.1758928e+00,  2.3179133e+00,  3.2501392e+00,\n",
              "        1.2695453e+00,  1.4720771e+00,  3.2789760e+00, -4.8575811e-02,\n",
              "        3.4613149e+00,  4.0553284e+00,  3.5734527e+00,  4.9448910e+00,\n",
              "       -1.5487254e-02,  2.1654904e+00,  7.5671225e+00,  6.6352348e+00,\n",
              "        6.3419189e+00,  2.6045675e+00,  4.2892551e+00,  3.1616900e+00,\n",
              "       -2.7851305e+00,  3.7568080e+00, -1.9573458e+00,  7.6204863e+00,\n",
              "        6.3731956e+00, -9.2691290e-01,  5.8656139e+00,  1.8076426e+00,\n",
              "        2.4027297e+00,  3.3332849e+00,  3.4739921e+00,  1.3074656e+00,\n",
              "       -9.8552561e-01,  3.6155722e+00,  5.8376069e+00,  9.9632770e-01,\n",
              "        4.4021475e-01,  4.0213885e+00, -1.3765903e+00,  4.3493037e+00,\n",
              "        3.3859696e+00,  3.8253832e+00, -2.8937175e+00,  3.2463884e+00,\n",
              "        1.4812154e+00,  3.7994659e-01, -3.5801864e-01, -6.4021891e-01,\n",
              "       -2.2472360e+00, -3.2424932e+00,  4.4128690e+00,  5.0772200e+00,\n",
              "       -4.4075584e-01, -1.2243315e+00,  2.1335626e+00,  1.0842800e-02,\n",
              "        9.3233242e+00,  2.3481131e+00,  1.5586653e+00,  6.2154531e-03,\n",
              "       -1.1368849e+00,  4.9134111e+00, -2.0371666e+00,  5.0874543e+00,\n",
              "        4.9434572e-01, -3.2672780e+00,  2.4661436e+00, -1.0859030e+00,\n",
              "        4.2853060e+00,  3.7882628e+00, -5.8506399e-01,  1.1654581e+00,\n",
              "        1.6360745e+00, -1.2858949e+00,  7.3621197e+00,  2.5782838e+00,\n",
              "        1.2680506e+00,  3.0883927e+00,  2.4719315e+00,  7.8862208e-01,\n",
              "        2.8824458e+00,  3.8355360e+00,  2.5850143e+00,  4.3044072e-01,\n",
              "       -1.5582234e+00, -7.0470774e-01,  1.5083314e+00,  2.2277815e+00,\n",
              "        4.3298998e+00,  4.5524187e+00, -9.1878843e-01,  3.8091421e+00,\n",
              "        2.0269868e+00,  1.8528659e+00, -2.5419167e-01,  1.7201781e+00,\n",
              "        5.0584536e+00, -1.7203099e+00,  3.4352081e+00, -4.2378502e+00,\n",
              "       -1.8858612e-01,  2.5129113e+00, -4.6040586e-01,  7.4168289e-01,\n",
              "        6.0957198e+00,  5.2281890e+00,  2.6529298e+00,  1.6452676e+00,\n",
              "        2.2267323e+00,  2.4647155e+00,  4.1646776e+00,  1.2606192e-01,\n",
              "        1.6313403e+00,  8.2281647e+00,  4.5287685e+00,  3.4251347e+00,\n",
              "       -7.9106760e-01,  2.4702373e+00, -1.5459127e+00, -3.0131779e+00,\n",
              "        3.9746273e+00, -2.5140939e+00,  4.2619815e+00, -5.2806890e-01,\n",
              "        1.2276760e+00,  7.1258640e-01,  1.9515206e+00, -6.8380374e-01,\n",
              "        9.8352396e-01, -3.3448434e+00,  2.2926843e+00, -2.5316930e+00,\n",
              "        8.3708200e+00,  6.2048206e+00,  1.3386272e+00,  2.1300731e+00,\n",
              "        4.7247553e+00,  2.6633304e-01, -1.5880110e+00,  3.4007549e-02,\n",
              "        6.7725337e-01, -1.0454938e+00,  5.0143695e-01,  1.5724356e+00,\n",
              "       -8.8671267e-01,  3.4771843e+00, -2.1410058e+00,  2.4807017e+00,\n",
              "       -9.4534385e-01,  3.2435482e+00, -4.1393933e+00,  5.4732409e+00,\n",
              "        2.2719023e+00,  4.0006428e+00,  3.4449453e+00,  2.0583210e+00,\n",
              "        6.9805508e+00, -2.1012104e+00,  8.8930893e+00,  4.5642099e+00,\n",
              "       -2.1630006e+00,  2.4231791e+00,  5.6469636e+00, -4.3954968e-01,\n",
              "        5.1781669e-02, -2.3944731e+00,  3.0764194e+00,  2.5230129e+00,\n",
              "        3.0874717e-01,  7.0094264e-01,  3.2404222e+00,  1.0622815e+00,\n",
              "       -4.4010690e-01,  3.2948389e+00, -8.7725353e-01,  6.8486214e+00,\n",
              "        2.4635959e+00,  5.6284823e+00,  5.7690825e+00, -1.5675600e+00,\n",
              "        3.4219100e+00,  3.0156298e+00, -2.6776252e+00,  6.4052153e+00,\n",
              "       -1.5619918e+00,  3.9589937e+00,  4.5482121e+00,  1.5987070e+00,\n",
              "        9.8178345e-01,  2.9906492e+00,  3.0670478e+00,  5.7584214e+00,\n",
              "        1.3867521e+00,  3.5781097e+00, -2.0385365e+00,  6.3711319e+00,\n",
              "        2.5895171e+00,  5.1011696e+00,  4.1041260e+00,  4.0830994e-01,\n",
              "       -1.7789664e+00,  1.6381475e+00,  6.3803511e+00,  4.1687460e+00,\n",
              "        6.0945940e-01,  2.7488372e+00,  4.3778477e+00,  3.0710196e+00,\n",
              "        4.3334746e+00,  1.0460122e+00,  1.7973388e+00,  7.9214001e+00,\n",
              "       -3.1598935e+00,  3.2613997e+00,  2.4002814e+00, -2.4066043e-01,\n",
              "        4.3978109e+00,  6.2641585e-01,  4.3479996e+00,  6.0641623e+00,\n",
              "        6.4547620e+00,  1.4817412e+00,  1.8921578e+00,  3.2204890e+00,\n",
              "        1.1423230e+01, -4.0448542e+00, -3.9335680e-01, -1.4532899e+00,\n",
              "        4.2338457e+00,  2.2981164e+00,  1.0414426e+00,  4.7527680e+00,\n",
              "        4.1837659e+00,  3.7479091e-01,  4.0743866e+00, -1.7401592e+00,\n",
              "        3.6890275e+00,  5.8645730e+00,  1.3020569e-01,  5.5106783e+00],\n",
              "      dtype=float32)>"
            ]
          },
          "metadata": {
            "tags": []
          },
          "execution_count": 8
        }
      ]
    },
    {
      "cell_type": "markdown",
      "metadata": {
        "id": "-50nq-wPBsAW"
      },
      "source": [
        "Before we train the model let's visualize where the model stands right now. We'll plot the model's predictions in red and the training data in blue."
      ]
    },
    {
      "cell_type": "code",
      "metadata": {
        "id": "_eb83LtrB4nt",
        "colab": {
          "base_uri": "https://localhost:8080/",
          "height": 300
        },
        "outputId": "47e81759-9287-42cb-f0d9-5804b8ec9223"
      },
      "source": [
        "import matplotlib.pyplot as plt\n",
        "\n",
        "plt.scatter(inputs, outputs, c='b')\n",
        "plt.scatter(inputs, model(inputs), c='r')\n",
        "plt.show()\n",
        "\n",
        "print('Current loss: '),\n",
        "print(loss(model(inputs), outputs).numpy())"
      ],
      "execution_count": 9,
      "outputs": [
        {
          "output_type": "display_data",
          "data": {
            "image/png": "[encoded data removed]",
            "text/plain": [
              "<Figure size 432x288 with 1 Axes>"
            ]
          },
          "metadata": {
            "tags": [],
            "needs_background": "light"
          }
        },
        {
          "output_type": "stream",
          "text": [
            "Current loss: \n",
            "9.066199\n"
          ],
          "name": "stdout"
        }
      ]
    },
    {
      "cell_type": "markdown",
      "metadata": {
        "id": "sSDP-yeq_4jE"
      },
      "source": [
        "### Define a training loop\n",
        "\n",
        "We now have our network and our training data. Let's train it, i.e., use the training data to update the model's variables (`W` and `b`) so that the loss goes down using [gradient descent](https://en.wikipedia.org/wiki/Gradient_descent). There are many variants of the gradient descent scheme that are captured in `tf.train.Optimizer` implementations. We'd highly recommend using those implementations, but in the spirit of building from first principles, in this particular example we will implement the basic math ourselves."
      ]
    },
    {
      "cell_type": "code",
      "metadata": {
        "id": "MBIACgdnA55X"
      },
      "source": [
        "def train(model, inputs, outputs, learning_rate):\n",
        "  with tf.GradientTape() as t:\n",
        "    current_loss = loss(model(inputs), outputs)\n",
        "  dW, db = t.gradient(current_loss, [model.W, model.b])\n",
        "  model.W.assign_sub(learning_rate * dW)\n",
        "  model.b.assign_sub(learning_rate * db)"
      ],
      "execution_count": 10,
      "outputs": []
    },
    {
      "cell_type": "markdown",
      "metadata": {
        "id": "RwWPaJryD2aN"
      },
      "source": [
        "Finally, let's repeatedly run through the training data and see how `W` and `b` evolve."
      ]
    },
    {
      "cell_type": "code",
      "metadata": {
        "id": "XdfkR223D9dW",
        "colab": {
          "base_uri": "https://localhost:8080/",
          "height": 439
        },
        "outputId": "89a84faa-5d38-4146-e72a-02f56e98c45f"
      },
      "source": [
        "model = Model()\n",
        "\n",
        "# Collect the history of W-values and b-values to plot later\n",
        "Ws, bs = [], []\n",
        "epochs = range(10)\n",
        "for epoch in epochs:\n",
        "  Ws.append(model.W.numpy())\n",
        "  bs.append(model.b.numpy())\n",
        "  current_loss = loss(model(inputs), outputs)\n",
        "\n",
        "  train(model, inputs, outputs, learning_rate=0.1)\n",
        "  print('Epoch %2d: W=%1.2f b=%1.2f, loss=%2.5f' %\n",
        "        (epoch, Ws[-1], bs[-1], current_loss))\n",
        "\n",
        "# Let's plot it all\n",
        "plt.plot(epochs, Ws, 'r',\n",
        "         epochs, bs, 'b')\n",
        "plt.plot([TRUE_W] * len(epochs), 'r--',\n",
        "         [TRUE_b] * len(epochs), 'b--')\n",
        "plt.legend(['W', 'b', 'true W', 'true_b'])\n",
        "plt.show()\n",
        "  "
      ],
      "execution_count": 11,
      "outputs": [
        {
          "output_type": "stream",
          "text": [
            "Epoch  0: W=5.00 b=0.00, loss=9.06620\n",
            "Epoch  1: W=4.58 b=0.40, loss=6.08684\n",
            "Epoch  2: W=4.25 b=0.71, loss=4.20461\n",
            "Epoch  3: W=3.99 b=0.97, loss=3.01521\n",
            "Epoch  4: W=3.79 b=1.17, loss=2.26346\n",
            "Epoch  5: W=3.62 b=1.33, loss=1.78820\n",
            "Epoch  6: W=3.50 b=1.47, loss=1.48767\n",
            "Epoch  7: W=3.39 b=1.57, loss=1.29758\n",
            "Epoch  8: W=3.31 b=1.65, loss=1.17733\n",
            "Epoch  9: W=3.25 b=1.72, loss=1.10124\n"
          ],
          "name": "stdout"
        },
        {
          "output_type": "display_data",
          "data": {
            "image/png": "[encoded data removed]",
            "text/plain": [
              "<Figure size 432x288 with 1 Axes>"
            ]
          },
          "metadata": {
            "tags": [],
            "needs_background": "light"
          }
        }
      ]
    },
    {
      "cell_type": "markdown",
      "metadata": {
        "id": "vPnIVuaSJwWz"
      },
      "source": [
        "## Next Steps\n",
        "\n",
        "In this tutorial we covered `Variable`s and built and trained a simple linear model using the TensorFlow primitives discussed so far.\n",
        "\n",
        "In theory, this is pretty much all you need to use TensorFlow for your machine learning research.\n",
        "In practice, particularly for neural networks, the higher level APIs like `tf.keras` will be much more convenient since it provides higher level building blocks (called \"layers\"), utilities to save and restore state, a suite of loss functions, a suite of optimization strategies etc.\n"
      ]
    }
  ]
}