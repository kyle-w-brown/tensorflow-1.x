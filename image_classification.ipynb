{
  "nbformat": 4,
  "nbformat_minor": 0,
  "metadata": {
    "colab": {
      "name": "image-classification.ipynb",
      "provenance": [],
      "collapsed_sections": []
    },
    "kernelspec": {
      "name": "python3",
      "display_name": "Python 3"
    }
  },
  "cells": [
    {
      "cell_type": "markdown",
      "metadata": {
        "id": "Fst--mMfH4bj"
      },
      "source": [
        "# Image Classification with Keras and Tensorflow 1.x\r\n",
        "\r\n",
        "---"
      ]
    },
    {
      "cell_type": "markdown",
      "metadata": {
        "id": "6o9uyEcPdEPP"
      },
      "source": [
        "[![Binder](https://mybinder.org/badge_logo.svg)](https://mybinder.org/v2/gh/kyle-w-brown/tensorflow-1.x.git/HEAD)"
      ]
    },
    {
      "cell_type": "markdown",
      "metadata": {
        "id": "KAXBArF-ll1i"
      },
      "source": [
        "Getting started with tensorflow\n"
      ]
    },
    {
      "cell_type": "code",
      "metadata": {
        "id": "w2U43Fggks5c",
        "colab": {
          "base_uri": "https://localhost:8080/"
        },
        "outputId": "9b74f525-fa4c-441b-ba7d-3835a3f42231"
      },
      "source": [
        "%tensorflow_version 1.x\r\n",
        "import tensorflow as tf"
      ],
      "execution_count": null,
      "outputs": [
        {
          "output_type": "stream",
          "text": [
            "TensorFlow 1.x selected.\n"
          ],
          "name": "stdout"
        }
      ]
    },
    {
      "cell_type": "markdown",
      "metadata": {
        "id": "ufl_ThVBnBId"
      },
      "source": [
        "Load and prepare the [MNIST](http://yann.lecun.com/exdb/mnist/) dataset. Convert the samples from integers to floating-point numbers:"
      ]
    },
    {
      "cell_type": "code",
      "metadata": {
        "id": "Ikw4Ac9kkzCj",
        "colab": {
          "base_uri": "https://localhost:8080/"
        },
        "outputId": "09ffac45-6cd7-42ef-df06-54e25e59c04a"
      },
      "source": [
        "mnist = tf.keras.datasets.mnist\n",
        "\n",
        "(x_train, y_train), (x_test, y_test) = mnist.load_data()\n",
        "x_train, x_test = x_train / 255.0, x_test / 255.0"
      ],
      "execution_count": null,
      "outputs": [
        {
          "output_type": "stream",
          "text": [
            "Downloading data from https://storage.googleapis.com/tensorflow/tf-keras-datasets/mnist.npz\n",
            "11493376/11490434 [==============================] - 0s 0us/step\n"
          ],
          "name": "stdout"
        }
      ]
    },
    {
      "cell_type": "markdown",
      "metadata": {
        "id": "0BfyjUU8nLVB"
      },
      "source": [
        "Build the `tf.keras` model by stacking layers. Select an optimizer and loss function used for training:"
      ]
    },
    {
      "cell_type": "code",
      "metadata": {
        "id": "V6Mbr5NGk35X",
        "colab": {
          "base_uri": "https://localhost:8080/"
        },
        "outputId": "98e67251-2105-4e3f-e5f6-9359dba6b159"
      },
      "source": [
        "model = tf.keras.models.Sequential([\n",
        "  tf.keras.layers.Flatten(input_shape=(28, 28)),\n",
        "  tf.keras.layers.Dense(512, activation=tf.nn.relu),\n",
        "  tf.keras.layers.Dropout(0.2),\n",
        "  tf.keras.layers.Dense(10, activation=tf.nn.softmax)\n",
        "])\n",
        "\n",
        "model.compile(optimizer='adam',\n",
        "              loss='sparse_categorical_crossentropy',\n",
        "              metrics=['accuracy'])"
      ],
      "execution_count": null,
      "outputs": [
        {
          "output_type": "stream",
          "text": [
            "WARNING:tensorflow:From /tensorflow-1.15.2/python3.7/tensorflow_core/python/ops/resource_variable_ops.py:1630: calling BaseResourceVariable.__init__ (from tensorflow.python.ops.resource_variable_ops) with constraint is deprecated and will be removed in a future version.\n",
            "Instructions for updating:\n",
            "If using Keras pass *_constraint arguments to layers.\n"
          ],
          "name": "stdout"
        }
      ]
    },
    {
      "cell_type": "code",
      "metadata": {
        "id": "ff6ju2hXk86X",
        "colab": {
          "base_uri": "https://localhost:8080/"
        },
        "outputId": "17564c11-1954-42d2-a10c-83a3110a366c"
      },
      "source": [
        "model.fit(x_train, y_train, epochs=5)\n",
        "\n",
        "model.evaluate(x_test, y_test)"
      ],
      "execution_count": null,
      "outputs": [
        {
          "output_type": "stream",
          "text": [
            "Train on 60000 samples\n",
            "Epoch 1/5\n",
            "60000/60000 [==============================] - 12s 204us/sample - loss: 0.2197 - acc: 0.9344\n",
            "Epoch 2/5\n",
            "60000/60000 [==============================] - 11s 189us/sample - loss: 0.0963 - acc: 0.9707\n",
            "Epoch 3/5\n",
            "60000/60000 [==============================] - 11s 188us/sample - loss: 0.0695 - acc: 0.9780\n",
            "Epoch 4/5\n",
            "60000/60000 [==============================] - 11s 186us/sample - loss: 0.0528 - acc: 0.9829\n",
            "Epoch 5/5\n",
            "60000/60000 [==============================] - 11s 182us/sample - loss: 0.0437 - acc: 0.9855\n",
            "10000/10000 [==============================] - 1s 72us/sample - loss: 0.0697 - acc: 0.9785\n"
          ],
          "name": "stdout"
        },
        {
          "output_type": "execute_result",
          "data": {
            "text/plain": [
              "[0.06967303538484267, 0.9785]"
            ]
          },
          "metadata": {
            "tags": []
          },
          "execution_count": 4
        }
      ]
    },
    {
      "cell_type": "markdown",
      "metadata": {
        "id": "aIQCKRGanwy_"
      },
      "source": [
        "You’ve now trained an image classifier with ~98% accuracy on this dataset. See [Get Started with TensorFlow](https://www.tensorflow.org/get_started/) to learn more.\n",
        "\n"
      ]
    },
    {
      "cell_type": "code",
      "metadata": {
        "id": "3qSEek1bpmYk",
        "colab": {
          "base_uri": "https://localhost:8080/"
        },
        "outputId": "ca4835d9-d8e8-461f-8c96-24ae96b54cb9"
      },
      "source": [
        "from keras.datasets import mnist\n",
        "from keras.models import Sequential \n",
        "from keras.layers.core import Dense, Activation\n",
        "from keras.utils import np_utils\n",
        "\n",
        "(X_train, Y_train), (X_test, Y_test) = mnist.load_data()\n",
        "\n",
        "X_train = X_train.reshape(60000, 784)     \n",
        "X_test = X_test.reshape(10000, 784)\n",
        "X_train = X_train.astype('float32')     \n",
        "X_test = X_test.astype('float32')     \n",
        "X_train /= 255     \n",
        "X_test /= 255\n",
        "\n",
        "\n",
        "classes = 10\n",
        "Y_train = np_utils.to_categorical(Y_train, classes)     \n",
        "Y_test = np_utils.to_categorical(Y_test, classes)\n",
        "\n",
        "input_size = 784\n",
        "batch_size = 100     \n",
        "hidden_neurons = 400     \n",
        "epochs = 30\n",
        "\n",
        "model = Sequential()     \n",
        "model.add(Dense(hidden_neurons, input_dim=input_size)) \n",
        "model.add(Activation('relu'))     \n",
        "model.add(Dense(classes, input_dim=hidden_neurons)) \n",
        "model.add(Activation('softmax'))\n",
        "\n",
        "model.compile(loss='categorical_crossentropy', metrics=['accuracy'], optimizer='adadelta')\n",
        "\n",
        "model.fit(X_train, Y_train, batch_size=batch_size, epochs=epochs, verbose=1)\n",
        "\n",
        "score = model.evaluate(X_test, Y_test, verbose=1)\n",
        "print('Test accuracy:', score[1]) \n"
      ],
      "execution_count": null,
      "outputs": [
        {
          "output_type": "stream",
          "text": [
            "Using TensorFlow backend.\n"
          ],
          "name": "stderr"
        },
        {
          "output_type": "stream",
          "text": [
            "WARNING:tensorflow:From /tensorflow-1.15.2/python3.7/keras/backend/tensorflow_backend.py:422: The name tf.global_variables is deprecated. Please use tf.compat.v1.global_variables instead.\n",
            "\n",
            "Epoch 1/30\n",
            "60000/60000 [==============================] - 6s 102us/step - loss: 0.2881 - accuracy: 0.9170\n",
            "Epoch 2/30\n",
            "60000/60000 [==============================] - 6s 101us/step - loss: 0.1238 - accuracy: 0.9639\n",
            "Epoch 3/30\n",
            "60000/60000 [==============================] - 6s 102us/step - loss: 0.0842 - accuracy: 0.9756\n",
            "Epoch 4/30\n",
            "60000/60000 [==============================] - 6s 102us/step - loss: 0.0641 - accuracy: 0.9809\n",
            "Epoch 5/30\n",
            "60000/60000 [==============================] - 6s 102us/step - loss: 0.0502 - accuracy: 0.9857\n",
            "Epoch 6/30\n",
            "60000/60000 [==============================] - 6s 102us/step - loss: 0.0403 - accuracy: 0.9888\n",
            "Epoch 7/30\n",
            "60000/60000 [==============================] - 6s 103us/step - loss: 0.0331 - accuracy: 0.9906\n",
            "Epoch 8/30\n",
            "60000/60000 [==============================] - 6s 103us/step - loss: 0.0273 - accuracy: 0.9927\n",
            "Epoch 9/30\n",
            "60000/60000 [==============================] - 6s 101us/step - loss: 0.0218 - accuracy: 0.9949\n",
            "Epoch 10/30\n",
            "60000/60000 [==============================] - 6s 102us/step - loss: 0.0183 - accuracy: 0.9956\n",
            "Epoch 11/30\n",
            "60000/60000 [==============================] - 6s 102us/step - loss: 0.0148 - accuracy: 0.9970\n",
            "Epoch 12/30\n",
            "60000/60000 [==============================] - 6s 102us/step - loss: 0.0121 - accuracy: 0.9974\n",
            "Epoch 13/30\n",
            "60000/60000 [==============================] - 6s 101us/step - loss: 0.0100 - accuracy: 0.9983\n",
            "Epoch 14/30\n",
            "60000/60000 [==============================] - 6s 102us/step - loss: 0.0084 - accuracy: 0.9987\n",
            "Epoch 15/30\n",
            "60000/60000 [==============================] - 6s 103us/step - loss: 0.0069 - accuracy: 0.9991\n",
            "Epoch 16/30\n",
            "60000/60000 [==============================] - 6s 103us/step - loss: 0.0057 - accuracy: 0.9992\n",
            "Epoch 17/30\n",
            "60000/60000 [==============================] - 6s 103us/step - loss: 0.0046 - accuracy: 0.9996\n",
            "Epoch 18/30\n",
            "60000/60000 [==============================] - 6s 103us/step - loss: 0.0040 - accuracy: 0.9995\n",
            "Epoch 19/30\n",
            "60000/60000 [==============================] - 6s 104us/step - loss: 0.0032 - accuracy: 0.9998\n",
            "Epoch 20/30\n",
            "60000/60000 [==============================] - 6s 105us/step - loss: 0.0027 - accuracy: 0.9998\n",
            "Epoch 21/30\n",
            "60000/60000 [==============================] - 6s 103us/step - loss: 0.0023 - accuracy: 0.9998\n",
            "Epoch 22/30\n",
            "60000/60000 [==============================] - 6s 103us/step - loss: 0.0019 - accuracy: 0.9999\n",
            "Epoch 23/30\n",
            "60000/60000 [==============================] - 6s 104us/step - loss: 0.0017 - accuracy: 0.9999\n",
            "Epoch 24/30\n",
            "60000/60000 [==============================] - 6s 103us/step - loss: 0.0015 - accuracy: 1.0000\n",
            "Epoch 25/30\n",
            "60000/60000 [==============================] - 6s 102us/step - loss: 0.0012 - accuracy: 1.0000\n",
            "Epoch 26/30\n",
            "60000/60000 [==============================] - 6s 102us/step - loss: 0.0011 - accuracy: 1.0000\n",
            "Epoch 27/30\n",
            "60000/60000 [==============================] - 6s 102us/step - loss: 0.0010 - accuracy: 1.0000\n",
            "Epoch 28/30\n",
            "60000/60000 [==============================] - 6s 103us/step - loss: 9.1869e-04 - accuracy: 1.0000\n",
            "Epoch 29/30\n",
            "60000/60000 [==============================] - 6s 103us/step - loss: 8.2077e-04 - accuracy: 1.0000\n",
            "Epoch 30/30\n",
            "60000/60000 [==============================] - 6s 103us/step - loss: 7.7283e-04 - accuracy: 1.0000\n",
            "10000/10000 [==============================] - 1s 58us/step\n",
            "Test accuracy: 0.9824000000953674\n"
          ],
          "name": "stdout"
        }
      ]
    },
    {
      "cell_type": "code",
      "metadata": {
        "id": "nHoSbTNdUWmo"
      },
      "source": [
        ""
      ],
      "execution_count": null,
      "outputs": []
    }
  ]
}