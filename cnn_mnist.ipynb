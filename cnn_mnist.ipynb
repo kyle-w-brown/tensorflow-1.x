{
  "nbformat": 4,
  "nbformat_minor": 0,
  "metadata": {
    "colab": {
      "name": "cnn-mnist.ipynb",
      "provenance": [],
      "collapsed_sections": [],
      "toc_visible": true
    },
    "kernelspec": {
      "name": "python3",
      "display_name": "Python 3"
    },
    "accelerator": "GPU"
  },
  "cells": [
    {
      "cell_type": "markdown",
      "metadata": {
        "id": "MfBg1C5NB3X0"
      },
      "source": [
        "# **Build a Convolutional Neural Network using Estimators**\n",
        "\n",
        "---"
      ]
    },
    {
      "cell_type": "markdown",
      "metadata": {
        "id": "J5Zk5c2jcQ7M"
      },
      "source": [
        "[![Binder](https://mybinder.org/badge_logo.svg)](https://mybinder.org/v2/gh/kyle-w-brown/tensorflow-1.x.git/HEAD)"
      ]
    },
    {
      "cell_type": "markdown",
      "metadata": {
        "id": "xHxb-dlhMIzW"
      },
      "source": [
        "The `tf.layers` module provides a high-level API that makes\n",
        "it easy to construct a neural network. It provides methods that facilitate the\n",
        "creation of dense (fully connected) layers and convolutional layers, adding\n",
        "activation functions, and applying dropout regularization. In this tutorial,\n",
        "you'll learn how to use `layers` to build a convolutional neural network model\n",
        "to recognize the handwritten digits in the MNIST data set.\n",
        "\n",
        "![handwritten digits 0–9 from the MNIST data set](https://www.tensorflow.org/images/mnist_0-9.png)\n",
        "\n",
        "The [MNIST dataset](http://yann.lecun.com/exdb/mnist/) comprises 60,000\n",
        "training examples and 10,000 test examples of the handwritten digits 0–9,\n",
        "formatted as 28x28-pixel monochrome images."
      ]
    },
    {
      "cell_type": "markdown",
      "metadata": {
        "id": "wTe-6uXpP2Ts"
      },
      "source": [
        "## Get Started\n",
        "\n",
        "Let's set up the imports for our TensorFlow program:"
      ]
    },
    {
      "cell_type": "code",
      "metadata": {
        "id": "6-tpguHLP6Rm",
        "colab": {
          "base_uri": "https://localhost:8080/"
        },
        "outputId": "123e3286-407f-4c64-ca9d-3ac4adc28930"
      },
      "source": [
        "from __future__ import absolute_import, division, print_function\n",
        "%tensorflow_version 1.x\n",
        "import tensorflow as tf\n",
        "import numpy as np\n",
        "\n",
        "tf.logging.set_verbosity(tf.logging.INFO)"
      ],
      "execution_count": 1,
      "outputs": [
        {
          "output_type": "stream",
          "text": [
            "TensorFlow 1.x selected.\n"
          ],
          "name": "stdout"
        }
      ]
    },
    {
      "cell_type": "markdown",
      "metadata": {
        "id": "bUxWLCdTQexM"
      },
      "source": [
        "As you work through the tutorial, you'll add code to construct, train, and\n",
        "evaluate the convolutional neural network. The complete, final code can be\n",
        "[found here](https://www.tensorflow.org/code/tensorflow/examples/tutorials/layers/cnn_mnist.py)."
      ]
    },
    {
      "cell_type": "markdown",
      "metadata": {
        "id": "4j5yyyDFQgSB"
      },
      "source": [
        "## Intro to Convolutional Neural Networks\n",
        "\n",
        "Convolutional neural networks (CNNs) are the current state-of-the-art model\n",
        "architecture for image classification tasks. CNNs apply a series of filters to\n",
        "the raw pixel data of an image to extract and learn higher-level features, which\n",
        "the model can then use for classification. CNNs contains three components:\n",
        "\n",
        "*   **Convolutional layers**, which apply a specified number of convolution\n",
        "    filters to the image. For each subregion, the layer performs a set of\n",
        "    mathematical operations to produce a single value in the output feature map.\n",
        "    Convolutional layers then typically apply a\n",
        "    [ReLU activation function](https://en.wikipedia.org/wiki/Rectifier_\\(neural_networks\\)) to\n",
        "    the output to introduce nonlinearities into the model.\n",
        "\n",
        "*   **Pooling layers**, which\n",
        "    [downsample the image data](https://en.wikipedia.org/wiki/Convolutional_neural_network#Pooling_layer)\n",
        "    extracted by the convolutional layers to reduce the dimensionality of the\n",
        "    feature map in order to decrease processing time. A commonly used pooling\n",
        "    algorithm is max pooling, which extracts subregions of the feature map\n",
        "    (e.g., 2x2-pixel tiles), keeps their maximum value, and discards all other\n",
        "    values.\n",
        "\n",
        "*   **Dense (fully connected) layers**, which perform classification on the\n",
        "    features extracted by the convolutional layers and downsampled by the\n",
        "    pooling layers. In a dense layer, every node in the layer is connected to\n",
        "    every node in the preceding layer.\n",
        "\n",
        "Typically, a CNN is composed of a stack of convolutional modules that perform\n",
        "feature extraction. Each module consists of a convolutional layer followed by a\n",
        "pooling layer. The last convolutional module is followed by one or more dense\n",
        "layers that perform classification. The final dense layer in a CNN contains a\n",
        "single node for each target class in the model (all the possible classes the\n",
        "model may predict), with a\n",
        "[softmax](https://en.wikipedia.org/wiki/Softmax_function) activation function to\n",
        "generate a value between 0–1 for each node (the sum of all these softmax values\n",
        "is equal to 1). We can interpret the softmax values for a given image as\n",
        "relative measurements of how likely it is that the image falls into each target\n",
        "class.\n",
        "\n",
        "Note: For a more comprehensive walkthrough of CNN architecture, see Stanford University's [Convolutional Neural Networks for Visual Recognition course material](https://cs231n.github.io/convolutional-networks/)."
      ]
    },
    {
      "cell_type": "markdown",
      "metadata": {
        "id": "j23E_Z0FQvZB"
      },
      "source": [
        "## Building the CNN MNIST Classifier\n",
        "\n",
        "Let's build a model to classify the images in the MNIST dataset using the\n",
        "following CNN architecture:\n",
        "\n",
        "1.  **Convolutional Layer #1**: Applies 32 5x5 filters (extracting 5x5-pixel\n",
        "    subregions), with ReLU activation function\n",
        "2.  **Pooling Layer #1**: Performs max pooling with a 2x2 filter and stride of 2\n",
        "    (which specifies that pooled regions do not overlap)\n",
        "3.  **Convolutional Layer #2**: Applies 64 5x5 filters, with ReLU activation\n",
        "    function\n",
        "4.  **Pooling Layer #2**: Again, performs max pooling with a 2x2 filter and\n",
        "    stride of 2\n",
        "5.  **Dense Layer #1**: 1,024 neurons, with dropout regularization rate of 0.4\n",
        "    (probability of 0.4 that any given element will be dropped during training)\n",
        "6.  **Dense Layer #2 (Logits Layer)**: 10 neurons, one for each digit target\n",
        "    class (0–9).\n",
        "\n",
        "The `tf.layers` module contains methods to create each of the three layer types\n",
        "above:\n",
        "\n",
        "*   `conv2d()`. Constructs a two-dimensional convolutional layer. Takes number\n",
        "    of filters, filter kernel size, padding, and activation function as\n",
        "    arguments.\n",
        "*   `max_pooling2d()`. Constructs a two-dimensional pooling layer using the\n",
        "    max-pooling algorithm. Takes pooling filter size and stride as arguments.\n",
        "*   `dense()`. Constructs a dense layer. Takes number of neurons and activation\n",
        "    function as arguments.\n",
        "\n",
        "Each of these methods accepts a tensor as input and returns a transformed tensor\n",
        "as output. This makes it easy to connect one layer to another: just take the\n",
        "output from one layer-creation method and supply it as input to another.\n",
        "\n",
        "Add the following `cnn_model_fn` function, which\n",
        "conforms to the interface expected by TensorFlow's Estimator API (more on this\n",
        "later in [Create the Estimator](#create-the-estimator)). This function takes\n",
        "MNIST feature data, labels, and mode (from\n",
        "`tf.estimator.ModeKeys`: `TRAIN`, `EVAL`, `PREDICT`) as arguments;\n",
        "configures the CNN; and returns predictions, loss, and a training operation:"
      ]
    },
    {
      "cell_type": "code",
      "metadata": {
        "id": "gMR-_3rkRKPa"
      },
      "source": [
        "def cnn_model_fn(features, labels, mode):\n",
        "  \"\"\"Model function for CNN.\"\"\"\n",
        "  # Input Layer\n",
        "  input_layer = tf.reshape(features[\"x\"], [-1, 28, 28, 1])\n",
        "\n",
        "  # Convolutional Layer #1\n",
        "  conv1 = tf.layers.conv2d(\n",
        "      inputs=input_layer,\n",
        "      filters=32,\n",
        "      kernel_size=[5, 5],\n",
        "      padding=\"same\",\n",
        "      activation=tf.nn.relu)\n",
        "\n",
        "  # Pooling Layer #1\n",
        "  pool1 = tf.layers.max_pooling2d(inputs=conv1, pool_size=[2, 2], strides=2)\n",
        "\n",
        "  # Convolutional Layer #2 and Pooling Layer #2\n",
        "  conv2 = tf.layers.conv2d(\n",
        "      inputs=pool1,\n",
        "      filters=64,\n",
        "      kernel_size=[5, 5],\n",
        "      padding=\"same\",\n",
        "      activation=tf.nn.relu)\n",
        "  pool2 = tf.layers.max_pooling2d(inputs=conv2, pool_size=[2, 2], strides=2)\n",
        "\n",
        "  # Dense Layer\n",
        "  pool2_flat = tf.reshape(pool2, [-1, 7 * 7 * 64])\n",
        "  dense = tf.layers.dense(inputs=pool2_flat, units=1024, activation=tf.nn.relu)\n",
        "  dropout = tf.layers.dropout(\n",
        "      inputs=dense, rate=0.4, training=mode == tf.estimator.ModeKeys.TRAIN)\n",
        "\n",
        "  # Logits Layer\n",
        "  logits = tf.layers.dense(inputs=dropout, units=10)\n",
        "\n",
        "  predictions = {\n",
        "      # Generate predictions (for PREDICT and EVAL mode)\n",
        "      \"classes\": tf.argmax(input=logits, axis=1),\n",
        "      # Add `softmax_tensor` to the graph. It is used for PREDICT and by the\n",
        "      # `logging_hook`.\n",
        "      \"probabilities\": tf.nn.softmax(logits, name=\"softmax_tensor\")\n",
        "  }\n",
        "\n",
        "  if mode == tf.estimator.ModeKeys.PREDICT:\n",
        "    return tf.estimator.EstimatorSpec(mode=mode, predictions=predictions)\n",
        "\n",
        "  # Calculate Loss (for both TRAIN and EVAL modes)\n",
        "  loss = tf.losses.sparse_softmax_cross_entropy(labels=labels, logits=logits)\n",
        "\n",
        "  # Configure the Training Op (for TRAIN mode)\n",
        "  if mode == tf.estimator.ModeKeys.TRAIN:\n",
        "    optimizer = tf.train.GradientDescentOptimizer(learning_rate=0.001)\n",
        "    train_op = optimizer.minimize(\n",
        "        loss=loss,\n",
        "        global_step=tf.train.get_global_step())\n",
        "    return tf.estimator.EstimatorSpec(mode=mode, loss=loss, train_op=train_op)\n",
        "\n",
        "  # Add evaluation metrics (for EVAL mode)\n",
        "  eval_metric_ops = {\n",
        "      \"accuracy\": tf.metrics.accuracy(\n",
        "          labels=labels, predictions=predictions[\"classes\"])\n",
        "  }\n",
        "  return tf.estimator.EstimatorSpec(\n",
        "      mode=mode, loss=loss, eval_metric_ops=eval_metric_ops)"
      ],
      "execution_count": 2,
      "outputs": []
    },
    {
      "cell_type": "markdown",
      "metadata": {
        "id": "b7z8qC9FRSLB"
      },
      "source": [
        "The following sections (with headings corresponding to each code block above)\n",
        "dive deeper into the `tf.layers` code used to create each layer, as well as how\n",
        "to calculate loss, configure the training op, and generate predictions. If\n",
        "you're already experienced with CNNs and [TensorFlow `Estimator`s](../../guide/custom_estimators.md),\n",
        "and find the above code intuitive, you may want to skim these sections or just\n",
        "skip ahead to [\"Training and Evaluating the CNN MNIST Classifier\"](#train_eval_mnist)."
      ]
    },
    {
      "cell_type": "markdown",
      "metadata": {
        "id": "sFBXEYRlRUWu"
      },
      "source": [
        "### Input Layer\n",
        "\n",
        "The methods in the `layers` module for creating convolutional and pooling layers\n",
        "for two-dimensional image data expect input tensors to have a shape of\n",
        "<code>[<em>batch_size</em>, <em>image_height</em>, <em>image_width</em>,\n",
        "<em>channels</em>]</code> by default. This behavior can be changed using the\n",
        "<code><em>data_format</em></code> parameter; defined as follows:\n",
        "\n",
        "*   `batch_size` —Size of the subset of examples to use when performing\n",
        "    gradient descent during training.\n",
        "*   `image_height` —Height of the example images.\n",
        "*   `image_width` —Width of the example images.\n",
        "*   `channels` —Number of color channels in the example images. For color\n",
        "    images, the number of channels is 3 (red, green, blue). For monochrome\n",
        "    images, there is just 1 channel (black).\n",
        "*   `data_format` —A string, one of `channels_last` (default) or `channels_first`.\n",
        "      `channels_last` corresponds to inputs with shape\n",
        "      `(batch, ..., channels)` while `channels_first` corresponds to\n",
        "      inputs with shape `(batch, channels, ...)`.\n",
        "\n",
        "Here, our MNIST dataset is composed of monochrome 28x28 pixel images, so the\n",
        "desired shape for our input layer is <code>[<em>batch_size</em>, 28, 28,\n",
        "1]</code>.\n",
        "\n",
        "To convert our input feature map (`features`) to this shape, we can perform the\n",
        "following `reshape` operation:\n",
        "\n",
        "```\n",
        "input_layer = tf.reshape(features[\"x\"], [-1, 28, 28, 1])\n",
        "```\n",
        "\n",
        "Note that we've indicated `-1` for batch size, which specifies that this\n",
        "dimension should be dynamically computed based on the number of input values in\n",
        "`features[\"x\"]`, holding the size of all other dimensions constant. This allows\n",
        "us to treat `batch_size` as a hyperparameter that we can tune. For example, if\n",
        "we feed examples into our model in batches of 5, `features[\"x\"]` will contain\n",
        "3,920 values (one value for each pixel in each image), and `input_layer` will\n",
        "have a shape of `[5, 28, 28, 1]`. Similarly, if we feed examples in batches of\n",
        "100, `features[\"x\"]` will contain 78,400 values, and `input_layer` will have a\n",
        "shape of `[100, 28, 28, 1]`."
      ]
    },
    {
      "cell_type": "markdown",
      "metadata": {
        "id": "iU8Jr1_JRiKA"
      },
      "source": [
        "### Convolutional Layer #1\n",
        "\n",
        "In our first convolutional layer, we want to apply 32 5x5 filters to the input\n",
        "layer, with a ReLU activation function. We can use the `conv2d()` method in the\n",
        "`layers` module to create this layer as follows:\n",
        "\n",
        "```\n",
        "conv1 = tf.layers.conv2d(\n",
        "    inputs=input_layer,\n",
        "    filters=32,\n",
        "    kernel_size=[5, 5],\n",
        "    padding=\"same\",\n",
        "    activation=tf.nn.relu)\n",
        "```\n",
        "\n",
        "The `inputs` argument specifies our input tensor, which must have the shape\n",
        "<code>[<em>batch_size</em>, <em>image_height</em>, <em>image_width</em>,\n",
        "<em>channels</em>]</code>. Here, we're connecting our first convolutional layer\n",
        "to `input_layer`, which has the shape <code>[<em>batch_size</em>, 28, 28,\n",
        "1]</code>.\n",
        "\n",
        "Note: `conv2d()` will instead accept a shape of `[<em>batch_size</em>, <em>channels</em>, <em>image_height</em>, <em>image_width</em>]` when passed the argument `data_format=channels_first`.\n",
        "\n",
        "The `filters` argument specifies the number of filters to apply (here, 32), and\n",
        "`kernel_size` specifies the dimensions of the filters as `[<em>height</em>,\n",
        "<em>width</em>]</code> (here, <code>[5, 5]`).\n",
        "\n",
        "<p class=\"tip\"><b>TIP:</b> If filter height and width have the same value, you can instead specify a\n",
        "single integer for <code>kernel_size</code>—e.g., <code>kernel_size=5</code>.</p>\n",
        "\n",
        "The `padding` argument specifies one of two enumerated values\n",
        "(case-insensitive): `valid` (default value) or `same`. To specify that the\n",
        "output tensor should have the same height and width values as the input tensor,\n",
        "we set `padding=same` here, which instructs TensorFlow to add 0 values to the\n",
        "edges of the input tensor to preserve height and width of 28. (Without padding,\n",
        "a 5x5 convolution over a 28x28 tensor will produce a 24x24 tensor, as there are\n",
        "24x24 locations to extract a 5x5 tile from a 28x28 grid.)\n",
        "\n",
        "The `activation` argument specifies the activation function to apply to the\n",
        "output of the convolution. Here, we specify ReLU activation with\n",
        "`tf.nn.relu`.\n",
        "\n",
        "Our output tensor produced by `conv2d()` has a shape of\n",
        "<code>[<em>batch_size</em>, 28, 28, 32]</code>: the same height and width\n",
        "dimensions as the input, but now with 32 channels holding the output from each\n",
        "of the filters."
      ]
    },
    {
      "cell_type": "markdown",
      "metadata": {
        "id": "8qzx1ZMFRqt_"
      },
      "source": [
        "### Pooling Layer #1\n",
        "\n",
        "Next, we connect our first pooling layer to the convolutional layer we just\n",
        "created. We can use the `max_pooling2d()` method in `layers` to construct a\n",
        "layer that performs max pooling with a 2x2 filter and stride of 2:\n",
        "\n",
        "```\n",
        "pool1 = tf.layers.max_pooling2d(inputs=conv1, pool_size=[2, 2], strides=2)\n",
        "```\n",
        "\n",
        "Again, `inputs` specifies the input tensor, with a shape of\n",
        "<code>[<em>batch_size</em>, <em>image_height</em>, <em>image_width</em>,\n",
        "<em>channels</em>]</code>. Here, our input tensor is `conv1`, the output from\n",
        "the first convolutional layer, which has a shape of <code>[<em>batch_size</em>,\n",
        "28, 28, 32]</code>.\n",
        "\n",
        "Note: As with <code>conv2d()</code>, <code>max_pooling2d()</code> will instead\n",
        "accept a shape of <code>[<em>batch_size</em>, <em>channels</em>, \n",
        "<em>image_height</em>, <em>image_width</em>]</code> when passed the argument\n",
        "<code>data_format=channels_first</code>.\n",
        "\n",
        "The `pool_size` argument specifies the size of the max pooling filter as\n",
        "<code>[<em>height</em>, <em>width</em>]</code> (here, `[2, 2]`). If both\n",
        "dimensions have the same value, you can instead specify a single integer (e.g.,\n",
        "`pool_size=2`).\n",
        "\n",
        "The `strides` argument specifies the size of the stride. Here, we set a stride\n",
        "of 2, which indicates that the subregions extracted by the filter should be\n",
        "separated by 2 pixels in both the height and width dimensions (for a 2x2 filter,\n",
        "this means that none of the regions extracted will overlap). If you want to set\n",
        "different stride values for height and width, you can instead specify a tuple or\n",
        "list (e.g., `stride=[3, 6]`).\n",
        "\n",
        "Our output tensor produced by `max_pooling2d()` (`pool1`) has a shape of\n",
        "<code>[<em>batch_size</em>, 14, 14, 32]</code>: the 2x2 filter reduces height and width by 50% each."
      ]
    },
    {
      "cell_type": "markdown",
      "metadata": {
        "id": "xXej53NlRzFh"
      },
      "source": [
        "### Convolutional Layer #2 and Pooling Layer #2\n",
        "\n",
        "We can connect a second convolutional and pooling layer to our CNN using\n",
        "`conv2d()` and `max_pooling2d()` as before. For convolutional layer #2, we\n",
        "configure 64 5x5 filters with ReLU activation, and for pooling layer #2, we use\n",
        "the same specs as pooling layer #1 (a 2x2 max pooling filter with stride of 2):\n",
        "\n",
        "```\n",
        "conv2 = tf.layers.conv2d(\n",
        "    inputs=pool1,\n",
        "    filters=64,\n",
        "    kernel_size=[5, 5],\n",
        "    padding=\"same\",\n",
        "    activation=tf.nn.relu)\n",
        "\n",
        "pool2 = tf.layers.max_pooling2d(inputs=conv2, pool_size=[2, 2], strides=2)\n",
        "```\n",
        "\n",
        "Note that convolutional layer #2 takes the output tensor of our first pooling\n",
        "layer (`pool1`) as input, and produces the tensor `conv2` as output. `conv2`\n",
        "has a shape of <code>[<em>batch_size</em>, 14, 14, 64]</code>, the same height and width as `pool1` (due to `padding=\"same\"`), and 64 channels for the 64\n",
        "filters applied.\n",
        "\n",
        "Pooling layer #2 takes `conv2` as input, producing `pool2` as output. `pool2`\n",
        "has shape <code>[<em>batch_size</em>, 7, 7, 64]</code> (50% reduction of height and width from `conv2`)."
      ]
    },
    {
      "cell_type": "markdown",
      "metadata": {
        "id": "jjmLqVP7R7z6"
      },
      "source": [
        "### Dense Layer\n",
        "\n",
        "Next, we want to add a dense layer (with 1,024 neurons and ReLU activation) to\n",
        "our CNN to perform classification on the features extracted by the\n",
        "convolution/pooling layers. Before we connect the layer, however, we'll flatten\n",
        "our feature map (`pool2`) to shape <code>[<em>batch_size</em>,\n",
        "<em>features</em>]</code>, so that our tensor has only two dimensions:\n",
        "\n",
        "```\n",
        "pool2_flat = tf.reshape(pool2, [-1, 7 * 7 * 64])\n",
        "```\n",
        "\n",
        "In the `reshape()` operation above, the `-1` signifies that the *`batch_size`*\n",
        "dimension will be dynamically calculated based on the number of examples in our\n",
        "input data. Each example has 7 (`pool2` height) * 7 (`pool2` width) * 64\n",
        "(`pool2` channels) features, so we want the `features` dimension to have a value\n",
        "of 7 * 7 * 64 (3136 in total). The output tensor, `pool2_flat`, has shape\n",
        "<code>[<em>batch_size</em>, 3136]</code>.\n",
        "\n",
        "Now, we can use the `dense()` method in `layers` to connect our dense layer as\n",
        "follows:\n",
        "\n",
        "```\n",
        "dense = tf.layers.dense(inputs=pool2_flat, units=1024, activation=tf.nn.relu)\n",
        "```\n",
        "\n",
        "The `inputs` argument specifies the input tensor: our flattened feature map,\n",
        "`pool2_flat`. The `units` argument specifies the number of neurons in the dense\n",
        "layer (1,024). The `activation` argument takes the activation function; again,\n",
        "we'll use `tf.nn.relu` to add ReLU activation.\n",
        "\n",
        "To help improve the results of our model, we also apply dropout regularization\n",
        "to our dense layer, using the `dropout` method in `layers`:\n",
        "\n",
        "```\n",
        "dropout = tf.layers.dropout(\n",
        "    inputs=dense, rate=0.4, training=mode == tf.estimator.ModeKeys.TRAIN)\n",
        "```\n",
        "\n",
        "Again, `inputs` specifies the input tensor, which is the output tensor from our\n",
        "dense layer (`dense`).\n",
        "\n",
        "The `rate` argument specifies the dropout rate; here, we use `0.4`, which means\n",
        "40% of the elements will be randomly dropped out during training.\n",
        "\n",
        "The `training` argument takes a boolean specifying whether or not the model is\n",
        "currently being run in training mode; dropout will only be performed if\n",
        "`training` is `True`. Here, we check if the `mode` passed to our model function\n",
        "`cnn_model_fn` is `TRAIN` mode.\n",
        "\n",
        "Our output tensor `dropout` has shape <code>[<em>batch_size</em>, 1024]</code>."
      ]
    },
    {
      "cell_type": "markdown",
      "metadata": {
        "id": "rzUcwkCZSTF7"
      },
      "source": [
        "### Logits Layer\n",
        "\n",
        "The final layer in our neural network is the logits layer, which will return the\n",
        "raw values for our predictions. We create a dense layer with 10 neurons (one for\n",
        "each target class 0–9), with linear activation (the default):\n",
        "\n",
        "```\n",
        "logits = tf.layers.dense(inputs=dropout, units=10)\n",
        "```\n",
        "\n",
        "Our final output tensor of the CNN, `logits`, has shape `[batch_size, 10]`."
      ]
    },
    {
      "cell_type": "markdown",
      "metadata": {
        "id": "y3uJ0V1KSakc"
      },
      "source": [
        "### Generate Predictions {#generate_predictions}\n",
        "\n",
        "The logits layer of our model returns our predictions as raw values in a\n",
        "<code>[<em>batch_size</em>, 10]</code>-dimensional tensor. Let's convert these\n",
        "raw values into two different formats that our model function can return:\n",
        "\n",
        "*   The **predicted class** for each example: a digit from 0–9.\n",
        "*   The **probabilities** for each possible target class for each example: the\n",
        "    probability that the example is a 0, is a 1, is a 2, etc.\n",
        "\n",
        "For a given example, our predicted class is the element in the corresponding row\n",
        "of the logits tensor with the highest raw value. We can find the index of this\n",
        "element using the `tf.argmax`\n",
        "function:\n",
        "\n",
        "```\n",
        "tf.argmax(input=logits, axis=1)\n",
        "```\n",
        "\n",
        "The `input` argument specifies the tensor from which to extract maximum\n",
        "values—here `logits`. The `axis` argument specifies the axis of the `input`\n",
        "tensor along which to find the greatest value. Here, we want to find the largest\n",
        "value along the dimension with index of 1, which corresponds to our predictions\n",
        "(recall that our logits tensor has shape <code>[<em>batch_size</em>,\n",
        "10]</code>).\n",
        "\n",
        "We can derive probabilities from our logits layer by applying softmax activation\n",
        "using `tf.nn.softmax`:\n",
        "\n",
        "```\n",
        "tf.nn.softmax(logits, name=\"softmax_tensor\")\n",
        "```\n",
        "\n",
        "Note: We use the `name` argument to explicitly name this operation `softmax_tensor`, so we can reference it later. (We'll set up logging for the softmax values in [\"Set Up a Logging Hook\"](#set-up-a-logging-hook)).\n",
        "\n",
        "We compile our predictions in a dict, and return an `EstimatorSpec` object:\n",
        "\n",
        "```\n",
        "predictions = {\n",
        "    \"classes\": tf.argmax(input=logits, axis=1),\n",
        "    \"probabilities\": tf.nn.softmax(logits, name=\"softmax_tensor\")\n",
        "}\n",
        "if mode == tf.estimator.ModeKeys.PREDICT:\n",
        "  return tf.estimator.EstimatorSpec(mode=mode, predictions=predictions)\n",
        "```"
      ]
    },
    {
      "cell_type": "markdown",
      "metadata": {
        "id": "f2ks_tqSSucg"
      },
      "source": [
        "### Calculate Loss {#calculating-loss}\n",
        "\n",
        "For both training and evaluation, we need to define a\n",
        "[loss function](https://en.wikipedia.org/wiki/Loss_function)\n",
        "that measures how closely the model's predictions match the target classes. For\n",
        "multiclass classification problems like MNIST,\n",
        "[cross entropy](https://en.wikipedia.org/wiki/Cross_entropy) is typically used\n",
        "as the loss metric. The following code calculates cross entropy when the model\n",
        "runs in either `TRAIN` or `EVAL` mode:\n",
        "\n",
        "```\n",
        "loss = tf.losses.sparse_softmax_cross_entropy(labels=labels, logits=logits)\n",
        "```\n",
        "\n",
        "Let's take a closer look at what's happening above.\n",
        "\n",
        "Our `labels` tensor contains a list of prediction indices for our examples, e.g. `[1,\n",
        "9, ...]`. `logits` contains the linear outputs of our last layer. \n",
        "\n",
        "`tf.losses.sparse_softmax_cross_entropy`, calculates the softmax crossentropy\n",
        "(aka: categorical crossentropy, negative log-likelihood) from these two inputs\n",
        "in an efficient, numerically stable way."
      ]
    },
    {
      "cell_type": "markdown",
      "metadata": {
        "id": "YgE7Ll3pS2FG"
      },
      "source": [
        "### Configure the Training Op\n",
        "\n",
        "In the previous section, we defined loss for our CNN as the softmax\n",
        "cross-entropy of the logits layer and our labels. Let's configure our model to\n",
        "optimize this loss value during training. We'll use a learning rate of 0.001 and\n",
        "[stochastic gradient descent](https://en.wikipedia.org/wiki/Stochastic_gradient_descent)\n",
        "as the optimization algorithm:\n",
        "\n",
        "```\n",
        "if mode == tf.estimator.ModeKeys.TRAIN:\n",
        "  optimizer = tf.train.GradientDescentOptimizer(learning_rate=0.001)\n",
        "  train_op = optimizer.minimize(\n",
        "      loss=loss,\n",
        "      global_step=tf.train.get_global_step())\n",
        "  return tf.estimator.EstimatorSpec(mode=mode, loss=loss, train_op=train_op)\n",
        "```"
      ]
    },
    {
      "cell_type": "markdown",
      "metadata": {
        "id": "rEJPnXAzS6m9"
      },
      "source": [
        "Note: For a more in-depth look at configuring training ops for Estimator model functions, see [\"Defining the training op for the model\"](../../guide/custom_estimators.md#defining-the-training-op-for-the-model) in the [\"Creating Estimations in tf.estimator\"](../../guide/custom_estimators.md) tutorial."
      ]
    },
    {
      "cell_type": "markdown",
      "metadata": {
        "id": "QQuGDWvHTAib"
      },
      "source": [
        "### Add evaluation metrics\n",
        "\n",
        "To add accuracy metric in our model, we define `eval_metric_ops` dict in EVAL\n",
        "mode as follows:\n",
        "\n",
        "```\n",
        "eval_metric_ops = {\n",
        "    \"accuracy\": tf.metrics.accuracy(\n",
        "        labels=labels, predictions=predictions[\"classes\"])\n",
        "}\n",
        "return tf.estimator.EstimatorSpec(\n",
        "    mode=mode, loss=loss, eval_metric_ops=eval_metric_ops)\n",
        "```"
      ]
    },
    {
      "cell_type": "markdown",
      "metadata": {
        "id": "Y2Bwe-AdTRzX"
      },
      "source": [
        "<a id=\"train_eval_mnist\"></a>\n",
        "## Training and Evaluating the CNN MNIST Classifier\n",
        "\n",
        "We've coded our MNIST CNN model function; now we're ready to train and evaluate\n",
        "it."
      ]
    },
    {
      "cell_type": "markdown",
      "metadata": {
        "id": "6EC9aOY2TTLU"
      },
      "source": [
        "### Load Training and Test Data\n",
        "\n",
        "First, let's load our training and test data with the following code:"
      ]
    },
    {
      "cell_type": "code",
      "metadata": {
        "id": "ccobb0qETV-S",
        "colab": {
          "base_uri": "https://localhost:8080/"
        },
        "outputId": "a1ad1b6a-01d1-40db-9ff2-31a756cdb448"
      },
      "source": [
        "# Load training and eval data\n",
        "((train_data, train_labels),\n",
        " (eval_data, eval_labels)) = tf.keras.datasets.mnist.load_data()\n",
        "\n",
        "train_data = train_data/np.float32(255)\n",
        "train_labels = train_labels.astype(np.int32)  # not required\n",
        "\n",
        "eval_data = eval_data/np.float32(255)\n",
        "eval_labels = eval_labels.astype(np.int32)  # not required"
      ],
      "execution_count": 3,
      "outputs": [
        {
          "output_type": "stream",
          "text": [
            "Downloading data from https://storage.googleapis.com/tensorflow/tf-keras-datasets/mnist.npz\n",
            "11493376/11490434 [==============================] - 0s 0us/step\n"
          ],
          "name": "stdout"
        }
      ]
    },
    {
      "cell_type": "markdown",
      "metadata": {
        "id": "8l84-IxSTZnO"
      },
      "source": [
        "We store the training feature data (the raw pixel values for 55,000 images of\n",
        "hand-drawn digits) and training labels (the corresponding value from 0–9 for\n",
        "each image) as [numpy\n",
        "arrays](https://docs.scipy.org/doc/numpy/reference/generated/numpy.array.html)\n",
        "in `train_data` and `train_labels`, respectively. Similarly, we store the\n",
        "evaluation feature data (10,000 images) and evaluation labels in `eval_data`\n",
        "and `eval_labels`, respectively."
      ]
    },
    {
      "cell_type": "markdown",
      "metadata": {
        "id": "S2_Isc7kTa45"
      },
      "source": [
        "### Create the Estimator {#create-the-estimator}\n",
        "\n",
        "Next, let's create an `Estimator` (a TensorFlow class for performing high-level\n",
        "model training, evaluation, and inference) for our model. Add the following code\n",
        "to `main()`:"
      ]
    },
    {
      "cell_type": "code",
      "metadata": {
        "id": "yjC6HdwZTdg4",
        "colab": {
          "base_uri": "https://localhost:8080/"
        },
        "outputId": "0788a2f9-9216-46bf-cbf9-6bb3a0178d7a"
      },
      "source": [
        "# Create the Estimator\n",
        "mnist_classifier = tf.estimator.Estimator(\n",
        "    model_fn=cnn_model_fn, model_dir=\"/tmp/mnist_convnet_model\")"
      ],
      "execution_count": 4,
      "outputs": [
        {
          "output_type": "stream",
          "text": [
            "INFO:tensorflow:Using default config.\n",
            "INFO:tensorflow:Using config: {'_model_dir': '/tmp/mnist_convnet_model', '_tf_random_seed': None, '_save_summary_steps': 100, '_save_checkpoints_steps': None, '_save_checkpoints_secs': 600, '_session_config': allow_soft_placement: true\n",
            "graph_options {\n",
            "  rewrite_options {\n",
            "    meta_optimizer_iterations: ONE\n",
            "  }\n",
            "}\n",
            ", '_keep_checkpoint_max': 5, '_keep_checkpoint_every_n_hours': 10000, '_log_step_count_steps': 100, '_train_distribute': None, '_device_fn': None, '_protocol': None, '_eval_distribute': None, '_experimental_distribute': None, '_experimental_max_worker_delay_secs': None, '_session_creation_timeout_secs': 7200, '_service': None, '_cluster_spec': <tensorflow.python.training.server_lib.ClusterSpec object at 0x7f8f10713190>, '_task_type': 'worker', '_task_id': 0, '_global_id_in_cluster': 0, '_master': '', '_evaluation_master': '', '_is_chief': True, '_num_ps_replicas': 0, '_num_worker_replicas': 1}\n"
          ],
          "name": "stdout"
        }
      ]
    },
    {
      "cell_type": "markdown",
      "metadata": {
        "id": "f78EBcg7TfTU"
      },
      "source": [
        "The `model_fn` argument specifies the model function to use for training,\n",
        "evaluation, and prediction; we pass it the `cnn_model_fn` we created in\n",
        "[\"Building the CNN MNIST Classifier.\"](#building-the-cnn-mnist-classifier) The\n",
        "`model_dir` argument specifies the directory where model data (checkpoints) will\n",
        "be saved (here, we specify the temp directory `/tmp/mnist_convnet_model`, but\n",
        "feel free to change to another directory of your choice).\n",
        "\n",
        "Note: For an in-depth walkthrough of the TensorFlow `Estimator` API, see the tutorial [Creating Estimators in tf.estimator](../../guide/custom_estimators.md)."
      ]
    },
    {
      "cell_type": "markdown",
      "metadata": {
        "id": "_6ow7hVYTm3f"
      },
      "source": [
        "### Set Up a Logging Hook {#set_up_a_logging_hook}\n",
        "\n",
        "Since CNNs can take a while to train, let's set up some logging so we can track\n",
        "progress during training. We can use TensorFlow's `tf.train.SessionRunHook` to create a\n",
        "`tf.train.LoggingTensorHook`\n",
        "that will log the probability values from the softmax layer of our CNN. Add the\n",
        "following to `main()`:"
      ]
    },
    {
      "cell_type": "code",
      "metadata": {
        "id": "S6T10kssTpdz"
      },
      "source": [
        "# Set up logging for predictions\n",
        "tensors_to_log = {\"probabilities\": \"softmax_tensor\"}\n",
        "\n",
        "logging_hook = tf.train.LoggingTensorHook(\n",
        "    tensors=tensors_to_log, every_n_iter=50)"
      ],
      "execution_count": 5,
      "outputs": []
    },
    {
      "cell_type": "markdown",
      "metadata": {
        "id": "RZdtZ6JQTsmg"
      },
      "source": [
        "We store a dict of the tensors we want to log in `tensors_to_log`. Each key is a\n",
        "label of our choice that will be printed in the log output, and the\n",
        "corresponding label is the name of a `Tensor` in the TensorFlow graph. Here, our\n",
        "`probabilities` can be found in `softmax_tensor`, the name we gave our softmax\n",
        "operation earlier when we generated the probabilities in `cnn_model_fn`.\n",
        "\n",
        "Note: If you don't explicitly assign a name to an operation via the `name` argument, TensorFlow will assign a default name. A couple easy ways to discover the names applied to operations are to visualize your graph on [TensorBoard](../../guide/graph_viz.md)) or to enable the [TensorFlow Debugger (tfdbg)](../../guide/debugger.md).\n",
        "\n",
        "Next, we create the `LoggingTensorHook`, passing `tensors_to_log` to the\n",
        "`tensors` argument. We set `every_n_iter=50`, which specifies that probabilities\n",
        "should be logged after every 50 steps of training."
      ]
    },
    {
      "cell_type": "markdown",
      "metadata": {
        "id": "brVs1dRMT0NM"
      },
      "source": [
        "### Train the Model\n",
        "\n",
        "Now we're ready to train our model, which we can do by creating `train_input_fn`\n",
        "and calling `train()` on `mnist_classifier`. In the `numpy_input_fn` call, we pass the training feature data and labels to\n",
        "`x` (as a dict) and `y`, respectively. We set a `batch_size` of `100` (which\n",
        "means that the model will train on minibatches of 100 examples at each step).\n",
        "`num_epochs=None` means that the model will train until the specified number of\n",
        "steps is reached. We also set `shuffle=True` to shuffle the training data. Then train the model a single step and log the output:"
      ]
    },
    {
      "cell_type": "code",
      "metadata": {
        "id": "h-dewpleT2sk",
        "colab": {
          "base_uri": "https://localhost:8080/"
        },
        "outputId": "4e71d588-0b2d-44e5-e890-35e5eee7a38d"
      },
      "source": [
        "# Train the model\n",
        "train_input_fn = tf.estimator.inputs.numpy_input_fn(\n",
        "    x={\"x\": train_data},\n",
        "    y=train_labels,\n",
        "    batch_size=100,\n",
        "    num_epochs=None,\n",
        "    shuffle=True)\n",
        "\n",
        "# train one step and display the probabilties\n",
        "mnist_classifier.train(\n",
        "    input_fn=train_input_fn,\n",
        "    steps=1,\n",
        "    hooks=[logging_hook])"
      ],
      "execution_count": 6,
      "outputs": [
        {
          "output_type": "stream",
          "text": [
            "WARNING:tensorflow:From /tensorflow-1.15.2/python3.7/tensorflow_core/python/training/training_util.py:236: Variable.initialized_value (from tensorflow.python.ops.variables) is deprecated and will be removed in a future version.\n",
            "Instructions for updating:\n",
            "Use Variable.read_value. Variables in 2.X are initialized automatically both in eager and graph (inside tf.defun) contexts.\n",
            "WARNING:tensorflow:From /tensorflow-1.15.2/python3.7/tensorflow_estimator/python/estimator/inputs/queues/feeding_queue_runner.py:62: QueueRunner.__init__ (from tensorflow.python.training.queue_runner_impl) is deprecated and will be removed in a future version.\n",
            "Instructions for updating:\n",
            "To construct input pipelines, use the `tf.data` module.\n",
            "WARNING:tensorflow:From /tensorflow-1.15.2/python3.7/tensorflow_estimator/python/estimator/inputs/queues/feeding_functions.py:500: add_queue_runner (from tensorflow.python.training.queue_runner_impl) is deprecated and will be removed in a future version.\n",
            "Instructions for updating:\n",
            "To construct input pipelines, use the `tf.data` module.\n",
            "INFO:tensorflow:Calling model_fn.\n",
            "WARNING:tensorflow:From <ipython-input-2-16a10fb7f348>:12: conv2d (from tensorflow.python.layers.convolutional) is deprecated and will be removed in a future version.\n",
            "Instructions for updating:\n",
            "Use `tf.keras.layers.Conv2D` instead.\n",
            "WARNING:tensorflow:From /tensorflow-1.15.2/python3.7/tensorflow_core/python/layers/convolutional.py:424: Layer.apply (from tensorflow.python.keras.engine.base_layer) is deprecated and will be removed in a future version.\n",
            "Instructions for updating:\n",
            "Please use `layer.__call__` method instead.\n",
            "WARNING:tensorflow:From <ipython-input-2-16a10fb7f348>:15: max_pooling2d (from tensorflow.python.layers.pooling) is deprecated and will be removed in a future version.\n",
            "Instructions for updating:\n",
            "Use keras.layers.MaxPooling2D instead.\n",
            "WARNING:tensorflow:From <ipython-input-2-16a10fb7f348>:28: dense (from tensorflow.python.layers.core) is deprecated and will be removed in a future version.\n",
            "Instructions for updating:\n",
            "Use keras.layers.Dense instead.\n",
            "WARNING:tensorflow:From <ipython-input-2-16a10fb7f348>:30: dropout (from tensorflow.python.layers.core) is deprecated and will be removed in a future version.\n",
            "Instructions for updating:\n",
            "Use keras.layers.dropout instead.\n",
            "WARNING:tensorflow:From /tensorflow-1.15.2/python3.7/tensorflow_core/python/ops/losses/losses_impl.py:121: where (from tensorflow.python.ops.array_ops) is deprecated and will be removed in a future version.\n",
            "Instructions for updating:\n",
            "Use tf.where in 2.0, which has the same broadcast rule as np.where\n",
            "INFO:tensorflow:Done calling model_fn.\n",
            "INFO:tensorflow:Create CheckpointSaverHook.\n",
            "INFO:tensorflow:Graph was finalized.\n",
            "INFO:tensorflow:Running local_init_op.\n",
            "INFO:tensorflow:Done running local_init_op.\n",
            "WARNING:tensorflow:From /tensorflow-1.15.2/python3.7/tensorflow_core/python/training/monitored_session.py:882: start_queue_runners (from tensorflow.python.training.queue_runner_impl) is deprecated and will be removed in a future version.\n",
            "Instructions for updating:\n",
            "To construct input pipelines, use the `tf.data` module.\n",
            "INFO:tensorflow:Saving checkpoints for 0 into /tmp/mnist_convnet_model/model.ckpt.\n",
            "INFO:tensorflow:probabilities = [[0.10506778 0.11654868 0.10372517 0.09486972 0.0968267  0.10152908\n",
            "  0.08849259 0.10037302 0.09361415 0.09895309]\n",
            " [0.09091042 0.12025078 0.11112688 0.10262214 0.08657736 0.10797059\n",
            "  0.08989371 0.08349255 0.09990128 0.10725431]\n",
            " [0.09300007 0.11509895 0.10849936 0.10239415 0.09761144 0.1116253\n",
            "  0.08565829 0.09455094 0.10041369 0.09114783]\n",
            " [0.11549236 0.10414913 0.11515532 0.10190066 0.07939786 0.09967198\n",
            "  0.07137756 0.0989513  0.10011609 0.11378781]\n",
            " [0.09639882 0.09221175 0.09496273 0.12796631 0.10126773 0.10538512\n",
            "  0.08024181 0.09475487 0.08821813 0.11859269]\n",
            " [0.07771835 0.120726   0.09619536 0.11380235 0.09062803 0.11844126\n",
            "  0.09651878 0.09388112 0.09313937 0.09894938]\n",
            " [0.10079499 0.10683256 0.10046775 0.09303199 0.09149466 0.11060356\n",
            "  0.08372221 0.09836167 0.10656576 0.10812485]\n",
            " [0.08859939 0.10749386 0.11292376 0.10974414 0.08503593 0.1145285\n",
            "  0.07745768 0.09404966 0.09842544 0.11174168]\n",
            " [0.08858624 0.1080602  0.10172352 0.11290903 0.09268544 0.1089326\n",
            "  0.08326294 0.10409153 0.10217818 0.0975704 ]\n",
            " [0.11528882 0.11708976 0.09135879 0.10536232 0.1010381  0.10860891\n",
            "  0.08616623 0.09567987 0.08695537 0.09245189]\n",
            " [0.09523541 0.0991867  0.12111865 0.10714473 0.08652361 0.1156346\n",
            "  0.07428426 0.10365393 0.08206082 0.11515729]\n",
            " [0.10338306 0.08906472 0.10401385 0.10332252 0.08659825 0.11841024\n",
            "  0.0878352  0.11253732 0.08768439 0.10715049]\n",
            " [0.10894732 0.10674056 0.11577159 0.11693977 0.08432367 0.11007015\n",
            "  0.08171503 0.09074255 0.0864162  0.09833316]\n",
            " [0.10800129 0.09733047 0.10234274 0.09585025 0.09816375 0.11615842\n",
            "  0.0853274  0.09771203 0.09415527 0.10495835]\n",
            " [0.10108431 0.1039841  0.09964368 0.10360697 0.08858588 0.11560016\n",
            "  0.08659995 0.10572251 0.09122472 0.10394776]\n",
            " [0.103273   0.09370153 0.1057751  0.13415314 0.09221238 0.10799422\n",
            "  0.08336326 0.08346    0.09166869 0.10439862]\n",
            " [0.11627958 0.09436428 0.10557161 0.11376991 0.08538311 0.10924247\n",
            "  0.07852256 0.09734932 0.09133871 0.10817853]\n",
            " [0.09009921 0.10913394 0.09870248 0.12241774 0.08689564 0.11031672\n",
            "  0.08227381 0.09662959 0.09404605 0.10948487]\n",
            " [0.09003276 0.09835175 0.09307414 0.11783341 0.08683385 0.10930955\n",
            "  0.09024382 0.10217315 0.08888232 0.12326527]\n",
            " [0.1185151  0.10794362 0.094207   0.10456522 0.08797493 0.10931815\n",
            "  0.08721703 0.09658898 0.08138673 0.11228324]\n",
            " [0.09986938 0.10565002 0.10032854 0.10875398 0.09438734 0.117981\n",
            "  0.06976359 0.09561582 0.10714266 0.10050774]\n",
            " [0.1005202  0.09657262 0.1271674  0.09855533 0.09586854 0.09784908\n",
            "  0.08022068 0.10615519 0.1019979  0.09509308]\n",
            " [0.0980728  0.10620806 0.09464236 0.09161612 0.09732781 0.10595396\n",
            "  0.10402829 0.11145117 0.08812838 0.10257109]\n",
            " [0.09036542 0.11944295 0.11526059 0.11100272 0.08006988 0.11812971\n",
            "  0.07627545 0.10110405 0.09442364 0.09392558]\n",
            " [0.10560364 0.10552766 0.10351136 0.10037632 0.08774835 0.10963758\n",
            "  0.07941055 0.09912998 0.10509617 0.10395833]\n",
            " [0.09140438 0.09991807 0.10094443 0.09216952 0.08591098 0.12891975\n",
            "  0.08924894 0.10286261 0.10880361 0.09981772]\n",
            " [0.08877131 0.1176447  0.10678077 0.10477013 0.08142879 0.10783168\n",
            "  0.08889007 0.10861954 0.0949576  0.10030543]\n",
            " [0.08983332 0.10289432 0.10359289 0.11057182 0.10198499 0.11078982\n",
            "  0.08565971 0.10657817 0.09651602 0.09157892]\n",
            " [0.09932856 0.11070776 0.10154248 0.10133614 0.09339371 0.10803459\n",
            "  0.08820954 0.1027464  0.09207917 0.10262164]\n",
            " [0.09288229 0.13403083 0.09420703 0.09927668 0.09385228 0.12037588\n",
            "  0.08357816 0.09703507 0.08449782 0.10026393]\n",
            " [0.09933777 0.10764384 0.10926174 0.09545535 0.09403697 0.10841232\n",
            "  0.08257231 0.09066232 0.10401569 0.10860174]\n",
            " [0.09148512 0.09358388 0.09777486 0.09743673 0.08624411 0.12718503\n",
            "  0.09772063 0.10413372 0.09596028 0.10847565]\n",
            " [0.09942249 0.10592576 0.09707068 0.10301495 0.09731665 0.12120597\n",
            "  0.07798823 0.09232204 0.10493226 0.10080095]\n",
            " [0.08598281 0.10446259 0.09398854 0.10033319 0.10383714 0.10916401\n",
            "  0.08031496 0.10417362 0.10996077 0.1077824 ]\n",
            " [0.1065683  0.09229535 0.11384118 0.12662055 0.08098818 0.10405467\n",
            "  0.0783684  0.07860702 0.11077926 0.10787708]\n",
            " [0.09790287 0.10324425 0.11629833 0.10756753 0.08548462 0.10257501\n",
            "  0.08071294 0.09879795 0.10161807 0.10579846]\n",
            " [0.0939397  0.11799301 0.10985561 0.10430047 0.06916973 0.10780962\n",
            "  0.09500015 0.12526241 0.07777308 0.09889619]\n",
            " [0.09564904 0.11563213 0.10941449 0.09499913 0.08458227 0.11261393\n",
            "  0.07214534 0.10346562 0.10067766 0.11082043]\n",
            " [0.08194665 0.11842331 0.08845218 0.10535447 0.07704914 0.12839268\n",
            "  0.09187035 0.09690284 0.09859217 0.11301625]\n",
            " [0.08301664 0.10722853 0.10141326 0.11652074 0.10168419 0.11982089\n",
            "  0.07067603 0.10651655 0.0836608  0.10946237]\n",
            " [0.10207932 0.10772595 0.11939693 0.0973261  0.08645705 0.12598701\n",
            "  0.08684282 0.0800619  0.08938335 0.10473961]\n",
            " [0.09764742 0.09672858 0.09848505 0.12794386 0.08902512 0.11080376\n",
            "  0.08209725 0.11017121 0.0925453  0.09455243]\n",
            " [0.0987577  0.10772513 0.08589179 0.10006581 0.07553172 0.12592691\n",
            "  0.0843213  0.11829791 0.08381034 0.11967136]\n",
            " [0.1011583  0.09537908 0.10732138 0.10591707 0.09556074 0.11701296\n",
            "  0.09257234 0.09692616 0.08744499 0.10070695]\n",
            " [0.08882862 0.10548094 0.08930574 0.12264297 0.10495485 0.12480298\n",
            "  0.08358932 0.09674142 0.09076244 0.09289075]\n",
            " [0.0833085  0.12106703 0.10855724 0.10361642 0.08933932 0.12752405\n",
            "  0.09094466 0.0940844  0.08669317 0.09486526]\n",
            " [0.0961172  0.13002619 0.10102061 0.11929193 0.0644105  0.10335992\n",
            "  0.07719562 0.11921613 0.09541065 0.09395122]\n",
            " [0.09201515 0.10189005 0.10453983 0.10860243 0.09433387 0.11814296\n",
            "  0.08874102 0.09694434 0.09824011 0.09655022]\n",
            " [0.09309731 0.1092755  0.11444598 0.11744621 0.09914282 0.08964037\n",
            "  0.08353785 0.10145683 0.09084333 0.1011138 ]\n",
            " [0.09923522 0.10872995 0.12185722 0.10300285 0.08387773 0.09700166\n",
            "  0.07741724 0.10393509 0.09846681 0.10647618]\n",
            " [0.1074082  0.10359074 0.09467787 0.1031605  0.0809474  0.1209334\n",
            "  0.08510468 0.10459667 0.09388684 0.10569373]\n",
            " [0.10490673 0.10517288 0.10381339 0.10389256 0.09362253 0.10092113\n",
            "  0.09109804 0.09900478 0.08735735 0.11021056]\n",
            " [0.09704656 0.10913745 0.09820597 0.10714253 0.09198515 0.10609667\n",
            "  0.09961669 0.08973472 0.09008632 0.11094795]\n",
            " [0.09808981 0.106491   0.10651296 0.09294744 0.10008421 0.11731649\n",
            "  0.08376057 0.09869526 0.09845537 0.09764683]\n",
            " [0.10396966 0.08664451 0.1104188  0.09720573 0.08975361 0.10683393\n",
            "  0.07747743 0.10908271 0.09774722 0.1208664 ]\n",
            " [0.10991079 0.09691832 0.10147329 0.10919889 0.09782396 0.10093085\n",
            "  0.09275301 0.09624048 0.09093751 0.10381287]\n",
            " [0.10284261 0.09452309 0.0979727  0.10226396 0.09464505 0.1074935\n",
            "  0.09654037 0.10982657 0.08512803 0.10876404]\n",
            " [0.10269729 0.11626629 0.08941714 0.09947367 0.08580774 0.11226714\n",
            "  0.08673482 0.11911105 0.07751089 0.11071397]\n",
            " [0.09248776 0.11974704 0.11341149 0.1089336  0.0839059  0.10325228\n",
            "  0.09154933 0.09208018 0.09101195 0.10362048]\n",
            " [0.09914179 0.11947437 0.10242311 0.12523536 0.07556951 0.1158469\n",
            "  0.07415712 0.10444222 0.08448282 0.0992268 ]\n",
            " [0.10246608 0.10711356 0.09612789 0.12254925 0.08604039 0.09909096\n",
            "  0.07977744 0.10901254 0.09470145 0.10312039]\n",
            " [0.09534194 0.10333112 0.10498156 0.10760059 0.10558084 0.1077076\n",
            "  0.09285554 0.09362661 0.09336543 0.09560876]\n",
            " [0.10551557 0.10626779 0.09479713 0.10160968 0.08881159 0.10600795\n",
            "  0.09581931 0.09772682 0.0995528  0.10389128]\n",
            " [0.09048526 0.09369298 0.08975964 0.11213455 0.08812704 0.11298665\n",
            "  0.11088576 0.0924611  0.10181347 0.10765351]\n",
            " [0.09107129 0.11388376 0.10857325 0.09301853 0.0930742  0.12237699\n",
            "  0.08631759 0.09900825 0.0904837  0.10219252]\n",
            " [0.11185879 0.10739814 0.09703811 0.10362433 0.09470135 0.11507989\n",
            "  0.07965032 0.10217734 0.08644886 0.10202283]\n",
            " [0.09905063 0.10858562 0.11319926 0.10348744 0.08927006 0.09849662\n",
            "  0.08307732 0.10911091 0.09918303 0.09653913]\n",
            " [0.07958826 0.10522353 0.11650962 0.11324029 0.10584405 0.10611063\n",
            "  0.08625148 0.10414775 0.08940201 0.09368236]\n",
            " [0.07961316 0.09227613 0.09329031 0.10443474 0.09529556 0.12505671\n",
            "  0.09627209 0.0928831  0.09965552 0.12122272]\n",
            " [0.10824628 0.10592142 0.10496923 0.11020097 0.09472033 0.11033162\n",
            "  0.08351432 0.09324627 0.09130932 0.09754027]\n",
            " [0.09460363 0.10229369 0.10477956 0.08693805 0.09090749 0.12437678\n",
            "  0.08587483 0.09775019 0.09959451 0.11288123]\n",
            " [0.10722873 0.11076676 0.10700609 0.09779688 0.09491371 0.10763653\n",
            "  0.08625186 0.08887445 0.09655971 0.10296537]\n",
            " [0.09001157 0.10257378 0.09725371 0.10435036 0.09861672 0.1293222\n",
            "  0.08507388 0.09347539 0.09802345 0.10129894]\n",
            " [0.09641429 0.12176474 0.09750971 0.11168034 0.07567101 0.09689315\n",
            "  0.09194389 0.09618711 0.11132129 0.1006145 ]\n",
            " [0.08950906 0.1050098  0.10878805 0.10493329 0.08602662 0.11622058\n",
            "  0.0915379  0.10536283 0.08691171 0.10570011]\n",
            " [0.10528193 0.09724209 0.09816048 0.10942769 0.09738735 0.11196509\n",
            "  0.07801705 0.09597913 0.10003335 0.10650589]\n",
            " [0.10126773 0.10804892 0.10671481 0.10112637 0.08553502 0.10797309\n",
            "  0.08034933 0.09812792 0.09834071 0.11251606]\n",
            " [0.07883857 0.12962127 0.11799096 0.09769021 0.08877216 0.10528419\n",
            "  0.08153735 0.09498215 0.10240803 0.10287513]\n",
            " [0.09675331 0.10583667 0.10242055 0.11298845 0.08742922 0.11442964\n",
            "  0.07794555 0.09417426 0.09696537 0.11105702]\n",
            " [0.0954719  0.09513592 0.1111678  0.10596862 0.08770258 0.10854574\n",
            "  0.09499212 0.09977712 0.09058236 0.11065582]\n",
            " [0.09753042 0.11015549 0.09973384 0.10758407 0.08056315 0.11147813\n",
            "  0.09058434 0.10217883 0.09219716 0.10799455]\n",
            " [0.11254507 0.10732751 0.09075425 0.10088632 0.08295949 0.12144376\n",
            "  0.09343658 0.09558897 0.0910064  0.10405165]\n",
            " [0.09023929 0.1013316  0.10136643 0.1154148  0.09701581 0.10332573\n",
            "  0.09181646 0.09350091 0.10453262 0.10145635]\n",
            " [0.10606781 0.10294084 0.0926958  0.1098931  0.08515066 0.11336473\n",
            "  0.08779085 0.08953302 0.09097094 0.1215922 ]\n",
            " [0.1040957  0.09712793 0.10705063 0.10500986 0.09130558 0.11073628\n",
            "  0.08369797 0.10860738 0.08716527 0.10520341]\n",
            " [0.09620401 0.10584471 0.09965085 0.12375211 0.08043245 0.12305865\n",
            "  0.07434408 0.08184155 0.110151   0.10472054]\n",
            " [0.08548151 0.11655369 0.09845229 0.1182539  0.08979764 0.11580773\n",
            "  0.0797112  0.10111999 0.09202565 0.10279647]\n",
            " [0.0916315  0.09617288 0.1152646  0.08904846 0.09690703 0.1091309\n",
            "  0.08529068 0.10910685 0.09372628 0.1137208 ]\n",
            " [0.08861805 0.09140921 0.09938817 0.11338865 0.09312218 0.10378773\n",
            "  0.09007762 0.1015823  0.09365356 0.1249725 ]\n",
            " [0.09825001 0.11950044 0.11027782 0.09922677 0.07735801 0.1050623\n",
            "  0.09319318 0.08816727 0.09796125 0.11100296]\n",
            " [0.09569296 0.11555176 0.11383122 0.10017672 0.09397971 0.11414494\n",
            "  0.08364284 0.10078814 0.08997964 0.09221203]\n",
            " [0.09574429 0.11065683 0.10269815 0.11066642 0.0802773  0.12096544\n",
            "  0.08252485 0.09072465 0.09926604 0.10647599]\n",
            " [0.09528159 0.12139993 0.09763659 0.10240157 0.08400273 0.12487582\n",
            "  0.08388299 0.09231479 0.08668908 0.11151489]\n",
            " [0.11163521 0.11145748 0.10705065 0.10140286 0.09579717 0.10490637\n",
            "  0.08809596 0.09060673 0.08739091 0.1016567 ]\n",
            " [0.08935338 0.11605568 0.08884754 0.10790523 0.08394048 0.12469247\n",
            "  0.07688493 0.10503407 0.10296857 0.10431758]\n",
            " [0.08379456 0.10036238 0.11271049 0.11007822 0.09957722 0.11067174\n",
            "  0.09338672 0.09696332 0.09797561 0.09447978]\n",
            " [0.10048544 0.08771414 0.11356047 0.12226947 0.08778608 0.08990897\n",
            "  0.08430028 0.11894342 0.07603759 0.11899412]\n",
            " [0.11434773 0.09766344 0.09474989 0.1032318  0.09628746 0.11448848\n",
            "  0.08963653 0.09932715 0.09218568 0.09808187]\n",
            " [0.08722031 0.11945265 0.09692104 0.11265898 0.08534881 0.11523813\n",
            "  0.08589217 0.10624917 0.08926567 0.10175309]\n",
            " [0.09684815 0.1028264  0.0997953  0.10709499 0.10476839 0.11190307\n",
            "  0.08643984 0.10154877 0.08831815 0.10045691]]\n",
            "INFO:tensorflow:loss = 2.295677, step = 0\n",
            "INFO:tensorflow:Saving checkpoints for 1 into /tmp/mnist_convnet_model/model.ckpt.\n",
            "INFO:tensorflow:Loss for final step: 2.295677.\n"
          ],
          "name": "stdout"
        },
        {
          "output_type": "execute_result",
          "data": {
            "text/plain": [
              "<tensorflow_estimator.python.estimator.estimator.Estimator at 0x7f8f10710f50>"
            ]
          },
          "metadata": {
            "tags": []
          },
          "execution_count": 6
        }
      ]
    },
    {
      "cell_type": "markdown",
      "metadata": {
        "id": "gyNSE3e-14Lq"
      },
      "source": [
        "Now—without logging each step—set `steps=1000` to train the model longer, but in a reasonable time to run this example. Training CNNs is computationally intensive. To increase the accuracy of your model, increase the number of `steps` passed to `train()`, like 20,000 steps. "
      ]
    },
    {
      "cell_type": "code",
      "metadata": {
        "id": "cri6zqcf2IXY",
        "colab": {
          "base_uri": "https://localhost:8080/"
        },
        "outputId": "7ec9f9c5-724c-442d-b5d8-d6d1ff6a373c"
      },
      "source": [
        "mnist_classifier.train(input_fn=train_input_fn, steps=1000)"
      ],
      "execution_count": 7,
      "outputs": [
        {
          "output_type": "stream",
          "text": [
            "INFO:tensorflow:Calling model_fn.\n",
            "INFO:tensorflow:Done calling model_fn.\n",
            "INFO:tensorflow:Create CheckpointSaverHook.\n",
            "INFO:tensorflow:Graph was finalized.\n",
            "INFO:tensorflow:Restoring parameters from /tmp/mnist_convnet_model/model.ckpt-1\n",
            "WARNING:tensorflow:From /tensorflow-1.15.2/python3.7/tensorflow_core/python/training/saver.py:1069: get_checkpoint_mtimes (from tensorflow.python.training.checkpoint_management) is deprecated and will be removed in a future version.\n",
            "Instructions for updating:\n",
            "Use standard file utilities to get mtimes.\n",
            "INFO:tensorflow:Running local_init_op.\n",
            "INFO:tensorflow:Done running local_init_op.\n",
            "INFO:tensorflow:Saving checkpoints for 1 into /tmp/mnist_convnet_model/model.ckpt.\n",
            "INFO:tensorflow:loss = 2.3076942, step = 1\n",
            "INFO:tensorflow:global_step/sec: 220.986\n",
            "INFO:tensorflow:loss = 2.2851703, step = 101 (0.455 sec)\n",
            "INFO:tensorflow:global_step/sec: 244.687\n",
            "INFO:tensorflow:loss = 2.2706459, step = 201 (0.409 sec)\n",
            "INFO:tensorflow:global_step/sec: 249.744\n",
            "INFO:tensorflow:loss = 2.2456028, step = 301 (0.400 sec)\n",
            "INFO:tensorflow:global_step/sec: 255.393\n",
            "INFO:tensorflow:loss = 2.2085102, step = 401 (0.392 sec)\n",
            "INFO:tensorflow:global_step/sec: 246.188\n",
            "INFO:tensorflow:loss = 2.201929, step = 501 (0.407 sec)\n",
            "INFO:tensorflow:global_step/sec: 249.417\n",
            "INFO:tensorflow:loss = 2.1840558, step = 601 (0.400 sec)\n",
            "INFO:tensorflow:global_step/sec: 247.72\n",
            "INFO:tensorflow:loss = 2.140273, step = 701 (0.403 sec)\n",
            "INFO:tensorflow:global_step/sec: 247.265\n",
            "INFO:tensorflow:loss = 2.0201104, step = 801 (0.404 sec)\n",
            "INFO:tensorflow:global_step/sec: 248.696\n",
            "INFO:tensorflow:loss = 1.9894257, step = 901 (0.403 sec)\n",
            "INFO:tensorflow:Saving checkpoints for 1001 into /tmp/mnist_convnet_model/model.ckpt.\n",
            "INFO:tensorflow:Loss for final step: 1.8234513.\n"
          ],
          "name": "stdout"
        },
        {
          "output_type": "execute_result",
          "data": {
            "text/plain": [
              "<tensorflow_estimator.python.estimator.estimator.Estimator at 0x7f8f10710f50>"
            ]
          },
          "metadata": {
            "tags": []
          },
          "execution_count": 7
        }
      ]
    },
    {
      "cell_type": "markdown",
      "metadata": {
        "id": "4bQdkLMeUE5U"
      },
      "source": [
        "### Evaluate the Model\n",
        "\n",
        "Once training is complete, we want to evaluate our model to determine its\n",
        "accuracy on the MNIST test set. We call the `evaluate` method, which evaluates\n",
        "the metrics we specified in `eval_metric_ops` argument in the `model_fn`.\n",
        "Add the following to `main()`:"
      ]
    },
    {
      "cell_type": "code",
      "metadata": {
        "id": "I0RGiqd0UF0N",
        "colab": {
          "base_uri": "https://localhost:8080/"
        },
        "outputId": "bf1fb1bc-42e1-4a59-e193-1e3e7235d5fb"
      },
      "source": [
        "eval_input_fn = tf.estimator.inputs.numpy_input_fn(\n",
        "    x={\"x\": eval_data},\n",
        "    y=eval_labels,\n",
        "    num_epochs=1,\n",
        "    shuffle=False)\n",
        "\n",
        "eval_results = mnist_classifier.evaluate(input_fn=eval_input_fn)\n",
        "print(eval_results)"
      ],
      "execution_count": 8,
      "outputs": [
        {
          "output_type": "stream",
          "text": [
            "INFO:tensorflow:Calling model_fn.\n",
            "INFO:tensorflow:Done calling model_fn.\n",
            "INFO:tensorflow:Starting evaluation at 2021-03-13T07:15:08Z\n",
            "INFO:tensorflow:Graph was finalized.\n",
            "INFO:tensorflow:Restoring parameters from /tmp/mnist_convnet_model/model.ckpt-1001\n",
            "INFO:tensorflow:Running local_init_op.\n",
            "INFO:tensorflow:Done running local_init_op.\n",
            "INFO:tensorflow:Finished evaluation at 2021-03-13-07:15:09\n",
            "INFO:tensorflow:Saving dict for global step 1001: accuracy = 0.7194, global_step = 1001, loss = 1.8461226\n",
            "INFO:tensorflow:Saving 'checkpoint_path' summary for global step 1001: /tmp/mnist_convnet_model/model.ckpt-1001\n",
            "{'accuracy': 0.7194, 'loss': 1.8461226, 'global_step': 1001}\n"
          ],
          "name": "stdout"
        }
      ]
    },
    {
      "cell_type": "markdown",
      "metadata": {
        "id": "JIBVID6dUIXT"
      },
      "source": [
        "To create `eval_input_fn`, we set `num_epochs=1`, so that the model evaluates\n",
        "the metrics over one epoch of data and returns the result. We also set\n",
        "`shuffle=False` to iterate through the data sequentially."
      ]
    },
    {
      "cell_type": "markdown",
      "metadata": {
        "id": "htmLZ-zEUZZk"
      },
      "source": [
        "## Additional Resources\n",
        "\n",
        "To learn more about TensorFlow Estimators and CNNs in TensorFlow, see the\n",
        "following resources:\n",
        "\n",
        "*   [Creating Estimators in tf.estimator](../../guide/custom_estimators.md)\n",
        "    provides an introduction to the TensorFlow Estimator API. It walks through\n",
        "    configuring an Estimator, writing a model function, calculating loss, and\n",
        "    defining a training op.\n",
        "*   [Advanced Convolutional Neural Networks](../../tutorials/images/deep_cnn.md) walks through how to build a MNIST CNN classification model\n",
        "    *without estimators* using lower-level TensorFlow operations."
      ]
    }
  ]
}